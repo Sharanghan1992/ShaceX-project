{
    "cells": [
        {
            "cell_type": "markdown",
            "id": "f857fc9e",
            "metadata": {
                "id": "f857fc9e",
                "papermill": {
                    "duration": 0.030735,
                    "end_time": "2021-10-05T19:21:35.398460",
                    "exception": false,
                    "start_time": "2021-10-05T19:21:35.367725",
                    "status": "completed"
                },
                "tags": []
            },
            "source": "<center>\n    <img src=\"https://gitlab.com/ibm/skills-network/courses/placeholder101/-/raw/master/labs/module%201/images/IDSNlogo.png\" width=\"300\" alt=\"cognitiveclass.ai logo\"  />\n</center>\n"
        },
        {
            "cell_type": "markdown",
            "id": "6e193df7",
            "metadata": {
                "id": "6e193df7",
                "papermill": {
                    "duration": 0.028473,
                    "end_time": "2021-10-05T19:21:35.456678",
                    "exception": false,
                    "start_time": "2021-10-05T19:21:35.428205",
                    "status": "completed"
                },
                "tags": []
            },
            "source": "# **Space X  Falcon 9 First Stage Landing Prediction**\n"
        },
        {
            "cell_type": "markdown",
            "id": "5d909d0f",
            "metadata": {
                "id": "5d909d0f",
                "papermill": {
                    "duration": 0.028799,
                    "end_time": "2021-10-05T19:21:35.516104",
                    "exception": false,
                    "start_time": "2021-10-05T19:21:35.487305",
                    "status": "completed"
                },
                "tags": []
            },
            "source": "## Lab 2: Data wrangling\n"
        },
        {
            "cell_type": "markdown",
            "id": "1bf9469d",
            "metadata": {
                "id": "1bf9469d",
                "papermill": {
                    "duration": 0.0294,
                    "end_time": "2021-10-05T19:21:35.574522",
                    "exception": false,
                    "start_time": "2021-10-05T19:21:35.545122",
                    "status": "completed"
                },
                "tags": []
            },
            "source": "Estimated time needed: **60** minutes\n"
        },
        {
            "cell_type": "markdown",
            "id": "1e56df83",
            "metadata": {
                "id": "1e56df83",
                "papermill": {
                    "duration": 0.02872,
                    "end_time": "2021-10-05T19:21:35.632398",
                    "exception": false,
                    "start_time": "2021-10-05T19:21:35.603678",
                    "status": "completed"
                },
                "tags": []
            },
            "source": "In this lab, we will perform some Exploratory Data Analysis (EDA) to find some patterns in the data and determine what would be the label for training supervised models.\n\nIn the data set, there are several different cases where the booster did not land successfully. Sometimes a landing was attempted but failed due to an accident; for example, <code>True Ocean</code> means the mission outcome was successfully  landed to a specific region of the ocean while <code>False Ocean</code> means the mission outcome was unsuccessfully landed to a specific region of the ocean. <code>True RTLS</code> means the mission outcome was successfully  landed to a ground pad <code>False RTLS</code> means the mission outcome was unsuccessfully landed to a ground pad.<code>True ASDS</code> means the mission outcome was successfully landed on  a drone ship <code>False ASDS</code> means the mission outcome was unsuccessfully landed on a drone ship.\n\nIn this lab we will mainly convert those outcomes into Training Labels with `1` means the booster successfully landed `0` means it was unsuccessful.\n"
        },
        {
            "cell_type": "markdown",
            "id": "6218a454",
            "metadata": {
                "id": "6218a454",
                "papermill": {
                    "duration": 0.02895,
                    "end_time": "2021-10-05T19:21:35.690290",
                    "exception": false,
                    "start_time": "2021-10-05T19:21:35.661340",
                    "status": "completed"
                },
                "tags": []
            },
            "source": "Falcon 9 first stage will land successfully\n"
        },
        {
            "cell_type": "markdown",
            "id": "afb9be84",
            "metadata": {
                "id": "afb9be84",
                "papermill": {
                    "duration": 0.028814,
                    "end_time": "2021-10-05T19:21:35.748259",
                    "exception": false,
                    "start_time": "2021-10-05T19:21:35.719445",
                    "status": "completed"
                },
                "tags": []
            },
            "source": "![](https://cf-courses-data.s3.us.cloud-object-storage.appdomain.cloud/IBMDeveloperSkillsNetwork-DS0701EN-SkillsNetwork/api/Images/landing\\_1.gif)\n"
        },
        {
            "cell_type": "markdown",
            "id": "5bde1d1b",
            "metadata": {
                "id": "5bde1d1b",
                "papermill": {
                    "duration": 0.028684,
                    "end_time": "2021-10-05T19:21:35.805900",
                    "exception": false,
                    "start_time": "2021-10-05T19:21:35.777216",
                    "status": "completed"
                },
                "tags": []
            },
            "source": "Several examples of an unsuccessful landing are shown here:\n"
        },
        {
            "cell_type": "markdown",
            "id": "1e374b17",
            "metadata": {
                "id": "1e374b17",
                "papermill": {
                    "duration": 0.029034,
                    "end_time": "2021-10-05T19:21:35.867277",
                    "exception": false,
                    "start_time": "2021-10-05T19:21:35.838243",
                    "status": "completed"
                },
                "tags": []
            },
            "source": "## Objectives\n\nPerform exploratory  Data Analysis and determine Training Labels\n\n*   Exploratory Data Analysis\n*   Determine Training Labels\n"
        },
        {
            "cell_type": "markdown",
            "id": "e2f56214",
            "metadata": {
                "id": "e2f56214",
                "papermill": {
                    "duration": 0.029404,
                    "end_time": "2021-10-05T19:21:35.925866",
                    "exception": false,
                    "start_time": "2021-10-05T19:21:35.896462",
                    "status": "completed"
                },
                "tags": []
            },
            "source": "## Import Libraries and Define Auxiliary Functions\n"
        },
        {
            "cell_type": "markdown",
            "id": "65863275",
            "metadata": {
                "id": "65863275",
                "papermill": {
                    "duration": 0.028836,
                    "end_time": "2021-10-05T19:21:35.984030",
                    "exception": false,
                    "start_time": "2021-10-05T19:21:35.955194",
                    "status": "completed"
                },
                "tags": []
            },
            "source": "We will import the following libraries.\n"
        },
        {
            "cell_type": "code",
            "execution_count": 1,
            "id": "c0bc6088",
            "metadata": {
                "execution": {
                    "iopub.execute_input": "2021-10-05T19:21:36.053965Z",
                    "iopub.status.busy": "2021-10-05T19:21:36.053300Z",
                    "iopub.status.idle": "2021-10-05T19:21:36.057828Z",
                    "shell.execute_reply": "2021-10-05T19:21:36.057152Z"
                },
                "id": "c0bc6088",
                "papermill": {
                    "duration": 0.044899,
                    "end_time": "2021-10-05T19:21:36.058008",
                    "exception": false,
                    "start_time": "2021-10-05T19:21:36.013109",
                    "status": "completed"
                },
                "tags": []
            },
            "outputs": [],
            "source": "# Pandas is a software library written for the Python programming language for data manipulation and analysis.\nimport pandas as pd\n#NumPy is a library for the Python programming language, adding support for large, multi-dimensional arrays and matrices, along with a large collection of high-level mathematical functions to operate on these arrays\nimport numpy as np"
        },
        {
            "cell_type": "markdown",
            "id": "07b2bbe6",
            "metadata": {
                "id": "07b2bbe6",
                "papermill": {
                    "duration": 0.029704,
                    "end_time": "2021-10-05T19:21:36.117377",
                    "exception": false,
                    "start_time": "2021-10-05T19:21:36.087673",
                    "status": "completed"
                },
                "tags": []
            },
            "source": "### Data Analysis\n"
        },
        {
            "cell_type": "markdown",
            "id": "f0c979ce",
            "metadata": {
                "id": "f0c979ce",
                "papermill": {
                    "duration": 0.029292,
                    "end_time": "2021-10-05T19:21:36.176737",
                    "exception": false,
                    "start_time": "2021-10-05T19:21:36.147445",
                    "status": "completed"
                },
                "tags": []
            },
            "source": "Load Space X dataset, from last section.\n"
        },
        {
            "cell_type": "code",
            "execution_count": 2,
            "id": "0289c49a",
            "metadata": {
                "colab": {
                    "base_uri": "https://localhost:8080/",
                    "height": 580
                },
                "execution": {
                    "iopub.execute_input": "2021-10-05T19:21:36.248635Z",
                    "iopub.status.busy": "2021-10-05T19:21:36.247892Z",
                    "iopub.status.idle": "2021-10-05T19:21:36.792693Z",
                    "shell.execute_reply": "2021-10-05T19:21:36.792176Z"
                },
                "id": "0289c49a",
                "outputId": "af4e865a-b20a-4a8f-83f1-992f9ce2cf5a",
                "papermill": {
                    "duration": 0.587023,
                    "end_time": "2021-10-05T19:21:36.792834",
                    "exception": false,
                    "start_time": "2021-10-05T19:21:36.205811",
                    "status": "completed"
                },
                "tags": []
            },
            "outputs": [
                {
                    "data": {
                        "text/html": "\n  <div id=\"df-cb653fca-c760-4e2f-b655-9ecfcc5d9629\">\n    <div class=\"colab-df-container\">\n      <div>\n<style scoped>\n    .dataframe tbody tr th:only-of-type {\n        vertical-align: middle;\n    }\n\n    .dataframe tbody tr th {\n        vertical-align: top;\n    }\n\n    .dataframe thead th {\n        text-align: right;\n    }\n</style>\n<table border=\"1\" class=\"dataframe\">\n  <thead>\n    <tr style=\"text-align: right;\">\n      <th></th>\n      <th>FlightNumber</th>\n      <th>Date</th>\n      <th>BoosterVersion</th>\n      <th>PayloadMass</th>\n      <th>Orbit</th>\n      <th>LaunchSite</th>\n      <th>Outcome</th>\n      <th>Flights</th>\n      <th>GridFins</th>\n      <th>Reused</th>\n      <th>Legs</th>\n      <th>LandingPad</th>\n      <th>Block</th>\n      <th>ReusedCount</th>\n      <th>Serial</th>\n      <th>Longitude</th>\n      <th>Latitude</th>\n    </tr>\n  </thead>\n  <tbody>\n    <tr>\n      <th>0</th>\n      <td>1</td>\n      <td>2010-06-04</td>\n      <td>Falcon 9</td>\n      <td>6104.959412</td>\n      <td>LEO</td>\n      <td>CCAFS SLC 40</td>\n      <td>None None</td>\n      <td>1</td>\n      <td>False</td>\n      <td>False</td>\n      <td>False</td>\n      <td>NaN</td>\n      <td>1.0</td>\n      <td>0</td>\n      <td>B0003</td>\n      <td>-80.577366</td>\n      <td>28.561857</td>\n    </tr>\n    <tr>\n      <th>1</th>\n      <td>2</td>\n      <td>2012-05-22</td>\n      <td>Falcon 9</td>\n      <td>525.000000</td>\n      <td>LEO</td>\n      <td>CCAFS SLC 40</td>\n      <td>None None</td>\n      <td>1</td>\n      <td>False</td>\n      <td>False</td>\n      <td>False</td>\n      <td>NaN</td>\n      <td>1.0</td>\n      <td>0</td>\n      <td>B0005</td>\n      <td>-80.577366</td>\n      <td>28.561857</td>\n    </tr>\n    <tr>\n      <th>2</th>\n      <td>3</td>\n      <td>2013-03-01</td>\n      <td>Falcon 9</td>\n      <td>677.000000</td>\n      <td>ISS</td>\n      <td>CCAFS SLC 40</td>\n      <td>None None</td>\n      <td>1</td>\n      <td>False</td>\n      <td>False</td>\n      <td>False</td>\n      <td>NaN</td>\n      <td>1.0</td>\n      <td>0</td>\n      <td>B0007</td>\n      <td>-80.577366</td>\n      <td>28.561857</td>\n    </tr>\n    <tr>\n      <th>3</th>\n      <td>4</td>\n      <td>2013-09-29</td>\n      <td>Falcon 9</td>\n      <td>500.000000</td>\n      <td>PO</td>\n      <td>VAFB SLC 4E</td>\n      <td>False Ocean</td>\n      <td>1</td>\n      <td>False</td>\n      <td>False</td>\n      <td>False</td>\n      <td>NaN</td>\n      <td>1.0</td>\n      <td>0</td>\n      <td>B1003</td>\n      <td>-120.610829</td>\n      <td>34.632093</td>\n    </tr>\n    <tr>\n      <th>4</th>\n      <td>5</td>\n      <td>2013-12-03</td>\n      <td>Falcon 9</td>\n      <td>3170.000000</td>\n      <td>GTO</td>\n      <td>CCAFS SLC 40</td>\n      <td>None None</td>\n      <td>1</td>\n      <td>False</td>\n      <td>False</td>\n      <td>False</td>\n      <td>NaN</td>\n      <td>1.0</td>\n      <td>0</td>\n      <td>B1004</td>\n      <td>-80.577366</td>\n      <td>28.561857</td>\n    </tr>\n    <tr>\n      <th>5</th>\n      <td>6</td>\n      <td>2014-01-06</td>\n      <td>Falcon 9</td>\n      <td>3325.000000</td>\n      <td>GTO</td>\n      <td>CCAFS SLC 40</td>\n      <td>None None</td>\n      <td>1</td>\n      <td>False</td>\n      <td>False</td>\n      <td>False</td>\n      <td>NaN</td>\n      <td>1.0</td>\n      <td>0</td>\n      <td>B1005</td>\n      <td>-80.577366</td>\n      <td>28.561857</td>\n    </tr>\n    <tr>\n      <th>6</th>\n      <td>7</td>\n      <td>2014-04-18</td>\n      <td>Falcon 9</td>\n      <td>2296.000000</td>\n      <td>ISS</td>\n      <td>CCAFS SLC 40</td>\n      <td>True Ocean</td>\n      <td>1</td>\n      <td>False</td>\n      <td>False</td>\n      <td>True</td>\n      <td>NaN</td>\n      <td>1.0</td>\n      <td>0</td>\n      <td>B1006</td>\n      <td>-80.577366</td>\n      <td>28.561857</td>\n    </tr>\n    <tr>\n      <th>7</th>\n      <td>8</td>\n      <td>2014-07-14</td>\n      <td>Falcon 9</td>\n      <td>1316.000000</td>\n      <td>LEO</td>\n      <td>CCAFS SLC 40</td>\n      <td>True Ocean</td>\n      <td>1</td>\n      <td>False</td>\n      <td>False</td>\n      <td>True</td>\n      <td>NaN</td>\n      <td>1.0</td>\n      <td>0</td>\n      <td>B1007</td>\n      <td>-80.577366</td>\n      <td>28.561857</td>\n    </tr>\n    <tr>\n      <th>8</th>\n      <td>9</td>\n      <td>2014-08-05</td>\n      <td>Falcon 9</td>\n      <td>4535.000000</td>\n      <td>GTO</td>\n      <td>CCAFS SLC 40</td>\n      <td>None None</td>\n      <td>1</td>\n      <td>False</td>\n      <td>False</td>\n      <td>False</td>\n      <td>NaN</td>\n      <td>1.0</td>\n      <td>0</td>\n      <td>B1008</td>\n      <td>-80.577366</td>\n      <td>28.561857</td>\n    </tr>\n    <tr>\n      <th>9</th>\n      <td>10</td>\n      <td>2014-09-07</td>\n      <td>Falcon 9</td>\n      <td>4428.000000</td>\n      <td>GTO</td>\n      <td>CCAFS SLC 40</td>\n      <td>None None</td>\n      <td>1</td>\n      <td>False</td>\n      <td>False</td>\n      <td>False</td>\n      <td>NaN</td>\n      <td>1.0</td>\n      <td>0</td>\n      <td>B1011</td>\n      <td>-80.577366</td>\n      <td>28.561857</td>\n    </tr>\n  </tbody>\n</table>\n</div>\n      <button class=\"colab-df-convert\" onclick=\"convertToInteractive('df-cb653fca-c760-4e2f-b655-9ecfcc5d9629')\"\n              title=\"Convert this dataframe to an interactive table.\"\n              style=\"display:none;\">\n        \n  <svg xmlns=\"http://www.w3.org/2000/svg\" height=\"24px\"viewBox=\"0 0 24 24\"\n       width=\"24px\">\n    <path d=\"M0 0h24v24H0V0z\" fill=\"none\"/>\n    <path d=\"M18.56 5.44l.94 2.06.94-2.06 2.06-.94-2.06-.94-.94-2.06-.94 2.06-2.06.94zm-11 1L8.5 8.5l.94-2.06 2.06-.94-2.06-.94L8.5 2.5l-.94 2.06-2.06.94zm10 10l.94 2.06.94-2.06 2.06-.94-2.06-.94-.94-2.06-.94 2.06-2.06.94z\"/><path d=\"M17.41 7.96l-1.37-1.37c-.4-.4-.92-.59-1.43-.59-.52 0-1.04.2-1.43.59L10.3 9.45l-7.72 7.72c-.78.78-.78 2.05 0 2.83L4 21.41c.39.39.9.59 1.41.59.51 0 1.02-.2 1.41-.59l7.78-7.78 2.81-2.81c.8-.78.8-2.07 0-2.86zM5.41 20L4 18.59l7.72-7.72 1.47 1.35L5.41 20z\"/>\n  </svg>\n      </button>\n      \n  <style>\n    .colab-df-container {\n      display:flex;\n      flex-wrap:wrap;\n      gap: 12px;\n    }\n\n    .colab-df-convert {\n      background-color: #E8F0FE;\n      border: none;\n      border-radius: 50%;\n      cursor: pointer;\n      display: none;\n      fill: #1967D2;\n      height: 32px;\n      padding: 0 0 0 0;\n      width: 32px;\n    }\n\n    .colab-df-convert:hover {\n      background-color: #E2EBFA;\n      box-shadow: 0px 1px 2px rgba(60, 64, 67, 0.3), 0px 1px 3px 1px rgba(60, 64, 67, 0.15);\n      fill: #174EA6;\n    }\n\n    [theme=dark] .colab-df-convert {\n      background-color: #3B4455;\n      fill: #D2E3FC;\n    }\n\n    [theme=dark] .colab-df-convert:hover {\n      background-color: #434B5C;\n      box-shadow: 0px 1px 3px 1px rgba(0, 0, 0, 0.15);\n      filter: drop-shadow(0px 1px 2px rgba(0, 0, 0, 0.3));\n      fill: #FFFFFF;\n    }\n  </style>\n\n      <script>\n        const buttonEl =\n          document.querySelector('#df-cb653fca-c760-4e2f-b655-9ecfcc5d9629 button.colab-df-convert');\n        buttonEl.style.display =\n          google.colab.kernel.accessAllowed ? 'block' : 'none';\n\n        async function convertToInteractive(key) {\n          const element = document.querySelector('#df-cb653fca-c760-4e2f-b655-9ecfcc5d9629');\n          const dataTable =\n            await google.colab.kernel.invokeFunction('convertToInteractive',\n                                                     [key], {});\n          if (!dataTable) return;\n\n          const docLinkHtml = 'Like what you see? Visit the ' +\n            '<a target=\"_blank\" href=https://colab.research.google.com/notebooks/data_table.ipynb>data table notebook</a>'\n            + ' to learn more about interactive tables.';\n          element.innerHTML = '';\n          dataTable['output_type'] = 'display_data';\n          await google.colab.output.renderOutput(dataTable, element);\n          const docLink = document.createElement('div');\n          docLink.innerHTML = docLinkHtml;\n          element.appendChild(docLink);\n        }\n      </script>\n    </div>\n  </div>\n  ",
                        "text/plain": "   FlightNumber        Date BoosterVersion  ...  Serial   Longitude   Latitude\n0             1  2010-06-04       Falcon 9  ...   B0003  -80.577366  28.561857\n1             2  2012-05-22       Falcon 9  ...   B0005  -80.577366  28.561857\n2             3  2013-03-01       Falcon 9  ...   B0007  -80.577366  28.561857\n3             4  2013-09-29       Falcon 9  ...   B1003 -120.610829  34.632093\n4             5  2013-12-03       Falcon 9  ...   B1004  -80.577366  28.561857\n5             6  2014-01-06       Falcon 9  ...   B1005  -80.577366  28.561857\n6             7  2014-04-18       Falcon 9  ...   B1006  -80.577366  28.561857\n7             8  2014-07-14       Falcon 9  ...   B1007  -80.577366  28.561857\n8             9  2014-08-05       Falcon 9  ...   B1008  -80.577366  28.561857\n9            10  2014-09-07       Falcon 9  ...   B1011  -80.577366  28.561857\n\n[10 rows x 17 columns]"
                    },
                    "execution_count": 2,
                    "metadata": {},
                    "output_type": "execute_result"
                }
            ],
            "source": "df=pd.read_csv(\"https://cf-courses-data.s3.us.cloud-object-storage.appdomain.cloud/IBM-DS0321EN-SkillsNetwork/datasets/dataset_part_1.csv\")\ndf.head(10)"
        },
        {
            "cell_type": "markdown",
            "id": "bf2f9156",
            "metadata": {
                "id": "bf2f9156",
                "papermill": {
                    "duration": 0.032228,
                    "end_time": "2021-10-05T19:21:36.855696",
                    "exception": false,
                    "start_time": "2021-10-05T19:21:36.823468",
                    "status": "completed"
                },
                "tags": []
            },
            "source": "Identify and calculate the percentage of the missing values in each attribute\n"
        },
        {
            "cell_type": "code",
            "execution_count": 3,
            "id": "75d36e57",
            "metadata": {
                "colab": {
                    "base_uri": "https://localhost:8080/"
                },
                "execution": {
                    "iopub.execute_input": "2021-10-05T19:21:36.924108Z",
                    "iopub.status.busy": "2021-10-05T19:21:36.922955Z",
                    "iopub.status.idle": "2021-10-05T19:21:36.930097Z",
                    "shell.execute_reply": "2021-10-05T19:21:36.930679Z"
                },
                "id": "75d36e57",
                "outputId": "7a87ac6e-1730-40d8-8417-310ef6eb1682",
                "papermill": {
                    "duration": 0.04438,
                    "end_time": "2021-10-05T19:21:36.930884",
                    "exception": false,
                    "start_time": "2021-10-05T19:21:36.886504",
                    "status": "completed"
                },
                "tags": []
            },
            "outputs": [
                {
                    "data": {
                        "text/plain": "FlightNumber       0\nDate               0\nBoosterVersion     0\nPayloadMass        0\nOrbit              0\nLaunchSite         0\nOutcome            0\nFlights            0\nGridFins           0\nReused             0\nLegs               0\nLandingPad        26\nBlock              0\nReusedCount        0\nSerial             0\nLongitude          0\nLatitude           0\ndtype: int64"
                    },
                    "execution_count": 3,
                    "metadata": {},
                    "output_type": "execute_result"
                }
            ],
            "source": "df.isnull().sum()"
        },
        {
            "cell_type": "markdown",
            "id": "21b5b85b",
            "metadata": {
                "id": "21b5b85b",
                "papermill": {
                    "duration": 0.030414,
                    "end_time": "2021-10-05T19:21:36.993131",
                    "exception": false,
                    "start_time": "2021-10-05T19:21:36.962717",
                    "status": "completed"
                },
                "tags": []
            },
            "source": "Identify which columns are numerical and categorical:\n"
        },
        {
            "cell_type": "code",
            "execution_count": 4,
            "id": "d7fc6a92",
            "metadata": {
                "colab": {
                    "base_uri": "https://localhost:8080/"
                },
                "execution": {
                    "iopub.execute_input": "2021-10-05T19:21:37.062166Z",
                    "iopub.status.busy": "2021-10-05T19:21:37.061321Z",
                    "iopub.status.idle": "2021-10-05T19:21:37.065109Z",
                    "shell.execute_reply": "2021-10-05T19:21:37.064523Z"
                },
                "id": "d7fc6a92",
                "outputId": "b3f5cb57-347b-4324-daf7-7bbeaf5a8df5",
                "papermill": {
                    "duration": 0.041169,
                    "end_time": "2021-10-05T19:21:37.065252",
                    "exception": false,
                    "start_time": "2021-10-05T19:21:37.024083",
                    "status": "completed"
                },
                "tags": []
            },
            "outputs": [
                {
                    "data": {
                        "text/plain": "FlightNumber        int64\nDate               object\nBoosterVersion     object\nPayloadMass       float64\nOrbit              object\nLaunchSite         object\nOutcome            object\nFlights             int64\nGridFins             bool\nReused               bool\nLegs                 bool\nLandingPad         object\nBlock             float64\nReusedCount         int64\nSerial             object\nLongitude         float64\nLatitude          float64\ndtype: object"
                    },
                    "execution_count": 4,
                    "metadata": {},
                    "output_type": "execute_result"
                }
            ],
            "source": "df.dtypes"
        },
        {
            "cell_type": "markdown",
            "id": "5472e024",
            "metadata": {
                "id": "5472e024",
                "papermill": {
                    "duration": 0.030865,
                    "end_time": "2021-10-05T19:21:37.128253",
                    "exception": false,
                    "start_time": "2021-10-05T19:21:37.097388",
                    "status": "completed"
                },
                "tags": []
            },
            "source": "### TASK 1: Calculate the number of launches on each site\n\nThe data contains several Space X  launch facilities: <a href='https://en.wikipedia.org/wiki/List_of_Cape_Canaveral_and_Merritt_Island_launch_sites?utm_medium=Exinfluencer&utm_source=Exinfluencer&utm_content=000026UJ&utm_term=10006555&utm_id=NA-SkillsNetwork-Channel-SkillsNetworkCoursesIBMDS0321ENSkillsNetwork26802033-2021-01-01'>Cape Canaveral Space</a> Launch Complex 40  <b>VAFB SLC 4E </b> , Vandenberg Air Force Base Space Launch Complex 4E <b>(SLC-4E)</b>, Kennedy Space Center Launch Complex 39A <b>KSC LC 39A </b>.The location of each Launch Is placed in the column <code>LaunchSite</code>\n"
        },
        {
            "cell_type": "markdown",
            "id": "10da78ac",
            "metadata": {
                "id": "10da78ac",
                "papermill": {
                    "duration": 0.030917,
                    "end_time": "2021-10-05T19:21:37.190173",
                    "exception": false,
                    "start_time": "2021-10-05T19:21:37.159256",
                    "status": "completed"
                },
                "tags": []
            },
            "source": "Next, let's see the number of launches for each site.\n\nUse the method  <code>value_counts()</code> on the column <code>LaunchSite</code> to determine the number of launches  on each site:\n"
        },
        {
            "cell_type": "code",
            "execution_count": 5,
            "id": "00bf4933",
            "metadata": {
                "colab": {
                    "base_uri": "https://localhost:8080/"
                },
                "execution": {
                    "iopub.execute_input": "2021-10-05T19:21:37.265024Z",
                    "iopub.status.busy": "2021-10-05T19:21:37.264360Z",
                    "iopub.status.idle": "2021-10-05T19:21:37.267974Z",
                    "shell.execute_reply": "2021-10-05T19:21:37.267369Z"
                },
                "id": "00bf4933",
                "outputId": "ddc5ee27-9bb0-4505-c42c-e9d6d2ac0ee0",
                "papermill": {
                    "duration": 0.046926,
                    "end_time": "2021-10-05T19:21:37.268139",
                    "exception": false,
                    "start_time": "2021-10-05T19:21:37.221213",
                    "status": "completed"
                },
                "tags": []
            },
            "outputs": [
                {
                    "data": {
                        "text/plain": "CCAFS SLC 40    55\nKSC LC 39A      22\nVAFB SLC 4E     13\nName: LaunchSite, dtype: int64"
                    },
                    "execution_count": 5,
                    "metadata": {},
                    "output_type": "execute_result"
                }
            ],
            "source": "# Apply value_counts() on column LaunchSite\ndf.LaunchSite.value_counts()"
        },
        {
            "cell_type": "markdown",
            "id": "b26e5732",
            "metadata": {
                "id": "b26e5732",
                "papermill": {
                    "duration": 0.032735,
                    "end_time": "2021-10-05T19:21:37.333974",
                    "exception": false,
                    "start_time": "2021-10-05T19:21:37.301239",
                    "status": "completed"
                },
                "tags": []
            },
            "source": "Each launch aims to an dedicated orbit, and here are some common orbit types:\n"
        },
        {
            "cell_type": "markdown",
            "id": "f79f14ce",
            "metadata": {
                "id": "f79f14ce",
                "papermill": {
                    "duration": 0.031376,
                    "end_time": "2021-10-05T19:21:37.396778",
                    "exception": false,
                    "start_time": "2021-10-05T19:21:37.365402",
                    "status": "completed"
                },
                "tags": []
            },
            "source": "*   <b>LEO</b>: Low Earth orbit (LEO)is an Earth-centred orbit with an altitude of 2,000 km (1,200 mi) or less (approximately one-third of the radius of Earth),\\[1] or with at least 11.25 periods per day (an orbital period of 128 minutes or less) and an eccentricity less than 0.25.\\[2] Most of the manmade objects in outer space are in LEO <a href='https://en.wikipedia.org/wiki/Low_Earth_orbit?utm_medium=Exinfluencer&utm_source=Exinfluencer&utm_content=000026UJ&utm_term=10006555&utm_id=NA-SkillsNetwork-Channel-SkillsNetworkCoursesIBMDS0321ENSkillsNetwork26802033-2021-01-01'>\\[1]</a>.\n\n*   <b>VLEO</b>: Very Low Earth Orbits (VLEO) can be defined as the orbits with a mean altitude below 450 km. Operating in these orbits can provide a number of benefits to Earth observation spacecraft as the spacecraft operates closer to the observation<a href='https://www.researchgate.net/publication/271499606_Very_Low_Earth_Orbit_mission_concepts_for_Earth_Observation_Benefits_and_challenges?utm_medium=Exinfluencer&utm_source=Exinfluencer&utm_content=000026UJ&utm_term=10006555&utm_id=NA-SkillsNetwork-Channel-SkillsNetworkCoursesIBMDS0321ENSkillsNetwork26802033-2021-01-01'>\\[2]</a>.\n\n*   <b>GTO</b> A geosynchronous orbit is a high Earth orbit that allows satellites to match Earth's rotation. Located at 22,236 miles (35,786 kilometers) above Earth's equator, this position is a valuable spot for monitoring weather, communications and surveillance. Because the satellite orbits at the same speed that the Earth is turning, the satellite seems to stay in place over a single longitude, though it may drift north to south,\u201d NASA wrote on its Earth Observatory website <a  href=\"https://www.space.com/29222-geosynchronous-orbit.html?utm_medium=Exinfluencer&utm_source=Exinfluencer&utm_content=000026UJ&utm_term=10006555&utm_id=NA-SkillsNetwork-Channel-SkillsNetworkCoursesIBMDS0321ENSkillsNetwork26802033-2021-01-01\" >\\[3] </a>.\n\n*   <b>SSO (or SO)</b>: It is a Sun-synchronous orbit  also called a heliosynchronous orbit is a nearly polar orbit around a planet, in which the satellite passes over any given point of the planet's surface at the same local mean solar time <a href=\"https://en.wikipedia.org/wiki/Sun-synchronous_orbit?utm_medium=Exinfluencer&utm_source=Exinfluencer&utm_content=000026UJ&utm_term=10006555&utm_id=NA-SkillsNetwork-Channel-SkillsNetworkCoursesIBMDS0321ENSkillsNetwork26802033-2021-01-01\">\\[4] <a>.\n\n*   <b>ES-L1 </b>:At the Lagrange points the gravitational forces of the two large bodies cancel out in such a way that a small object placed in orbit there is in equilibrium relative to the center of mass of the large bodies. L1 is one such point between the sun and the earth <a href=\"https://en.wikipedia.org/wiki/Lagrange_point?utm_medium=Exinfluencer&utm_source=Exinfluencer&utm_content=000026UJ&utm_term=10006555&utm_id=NA-SkillsNetwork-Channel-SkillsNetworkCoursesIBMDS0321ENSkillsNetwork26802033-2021-01-01#L1_point\">\\[5]</a> .\n\n*   <b>HEO</b> A highly elliptical orbit, is an elliptic orbit with high eccentricity, usually referring to one around Earth <a href=\"https://en.wikipedia.org/wiki/Highly_elliptical_orbit?utm_medium=Exinfluencer&utm_source=Exinfluencer&utm_content=000026UJ&utm_term=10006555&utm_id=NA-SkillsNetwork-Channel-SkillsNetworkCoursesIBMDS0321ENSkillsNetwork26802033-2021-01-01\">\\[6]</a>.\n\n*   <b> ISS </b> A modular space station (habitable artificial satellite) in low Earth orbit. It is a multinational collaborative project between five participating space agencies: NASA (United States), Roscosmos (Russia), JAXA (Japan), ESA (Europe), and CSA (Canada)<a href=\"https://en.wikipedia.org/wiki/International_Space_Station?utm_medium=Exinfluencer&utm_source=Exinfluencer&utm_content=000026UJ&utm_term=10006555&utm_id=NA-SkillsNetwork-Channel-SkillsNetworkCoursesIBMDS0321ENSkillsNetwork26802033-2021-01-01\"> \\[7] </a>\n\n*   <b> MEO </b> Geocentric orbits ranging in altitude from 2,000 km (1,200 mi) to just below geosynchronous orbit at 35,786 kilometers (22,236 mi). Also known as an intermediate circular orbit. These are \"most commonly at 20,200 kilometers (12,600 mi), or 20,650 kilometers (12,830 mi), with an orbital period of 12 hours <a href=\"https://en.wikipedia.org/wiki/List_of_orbits?utm_medium=Exinfluencer&utm_source=Exinfluencer&utm_content=000026UJ&utm_term=10006555&utm_id=NA-SkillsNetwork-Channel-SkillsNetworkCoursesIBMDS0321ENSkillsNetwork26802033-2021-01-01\"> \\[8] </a>\n\n*   <b> HEO </b> Geocentric orbits above the altitude of geosynchronous orbit (35,786 km or 22,236 mi) <a href=\"https://en.wikipedia.org/wiki/List_of_orbits?utm_medium=Exinfluencer&utm_source=Exinfluencer&utm_content=000026UJ&utm_term=10006555&utm_id=NA-SkillsNetwork-Channel-SkillsNetworkCoursesIBMDS0321ENSkillsNetwork26802033-2021-01-01\"> \\[9] </a>\n\n*   <b> GEO </b> It is a circular geosynchronous orbit 35,786 kilometres (22,236 miles) above Earth's equator and following the direction of Earth's rotation <a href=\"https://en.wikipedia.org/wiki/Geostationary_orbit?utm_medium=Exinfluencer&utm_source=Exinfluencer&utm_content=000026UJ&utm_term=10006555&utm_id=NA-SkillsNetwork-Channel-SkillsNetworkCoursesIBMDS0321ENSkillsNetwork26802033-2021-01-01\"> \\[10] </a>\n\n*   <b> PO </b> It is one type of satellites in which a satellite passes above or nearly above both poles of the body being orbited (usually a planet such as the Earth <a href=\"https://en.wikipedia.org/wiki/Polar_orbit?utm_medium=Exinfluencer&utm_source=Exinfluencer&utm_content=000026UJ&utm_term=10006555&utm_id=NA-SkillsNetwork-Channel-SkillsNetworkCoursesIBMDS0321ENSkillsNetwork26802033-2021-01-01\"> \\[11] </a>\n\nsome are shown in the following plot:\n"
        },
        {
            "cell_type": "markdown",
            "id": "f449bf3d",
            "metadata": {
                "id": "f449bf3d",
                "papermill": {
                    "duration": 0.031389,
                    "end_time": "2021-10-05T19:21:37.459961",
                    "exception": false,
                    "start_time": "2021-10-05T19:21:37.428572",
                    "status": "completed"
                },
                "tags": []
            },
            "source": "![](https://cf-courses-data.s3.us.cloud-object-storage.appdomain.cloud/IBMDeveloperSkillsNetwork-DS0701EN-SkillsNetwork/api/Images/Orbits.png)\n"
        },
        {
            "cell_type": "markdown",
            "id": "f3281fde",
            "metadata": {
                "id": "f3281fde",
                "papermill": {
                    "duration": 0.031111,
                    "end_time": "2021-10-05T19:21:37.522453",
                    "exception": false,
                    "start_time": "2021-10-05T19:21:37.491342",
                    "status": "completed"
                },
                "tags": []
            },
            "source": "### TASK 2: Calculate the number and occurrence of each orbit\n"
        },
        {
            "cell_type": "markdown",
            "id": "4e88defd",
            "metadata": {
                "id": "4e88defd",
                "papermill": {
                    "duration": 0.031066,
                    "end_time": "2021-10-05T19:21:37.584776",
                    "exception": false,
                    "start_time": "2021-10-05T19:21:37.553710",
                    "status": "completed"
                },
                "tags": []
            },
            "source": "Use the method  <code>.value_counts()</code> to determine the number and occurrence of each orbit in the  column <code>Orbit</code>\n"
        },
        {
            "cell_type": "code",
            "execution_count": 6,
            "id": "4fdb121a",
            "metadata": {
                "colab": {
                    "base_uri": "https://localhost:8080/"
                },
                "execution": {
                    "iopub.execute_input": "2021-10-05T19:21:37.654532Z",
                    "iopub.status.busy": "2021-10-05T19:21:37.653787Z",
                    "iopub.status.idle": "2021-10-05T19:21:37.657877Z",
                    "shell.execute_reply": "2021-10-05T19:21:37.658361Z"
                },
                "id": "4fdb121a",
                "outputId": "bd4c99d9-087a-4731-828d-9bd21b51df1f",
                "papermill": {
                    "duration": 0.042344,
                    "end_time": "2021-10-05T19:21:37.658533",
                    "exception": false,
                    "start_time": "2021-10-05T19:21:37.616189",
                    "status": "completed"
                },
                "tags": []
            },
            "outputs": [
                {
                    "data": {
                        "text/plain": "GTO      27\nISS      21\nVLEO     14\nPO        9\nLEO       7\nSSO       5\nMEO       3\nES-L1     1\nHEO       1\nSO        1\nGEO       1\nName: Orbit, dtype: int64"
                    },
                    "execution_count": 6,
                    "metadata": {},
                    "output_type": "execute_result"
                }
            ],
            "source": "# Apply value_counts on Orbit column\ndf.Orbit.value_counts()"
        },
        {
            "cell_type": "markdown",
            "id": "cf85f9b5",
            "metadata": {
                "id": "cf85f9b5",
                "papermill": {
                    "duration": 0.03265,
                    "end_time": "2021-10-05T19:21:37.723308",
                    "exception": false,
                    "start_time": "2021-10-05T19:21:37.690658",
                    "status": "completed"
                },
                "tags": []
            },
            "source": "### TASK 3: Calculate the number and occurence of mission outcome per orbit type\n"
        },
        {
            "cell_type": "markdown",
            "id": "1dd94410",
            "metadata": {
                "id": "1dd94410",
                "papermill": {
                    "duration": 0.032452,
                    "end_time": "2021-10-05T19:21:37.787740",
                    "exception": false,
                    "start_time": "2021-10-05T19:21:37.755288",
                    "status": "completed"
                },
                "tags": []
            },
            "source": "Use the method <code>.value_counts()</code> on the column <code>Outcome</code> to determine the number of <code>landing_outcomes</code>.Then assign it to a variable landing_outcomes.\n"
        },
        {
            "cell_type": "code",
            "execution_count": 7,
            "id": "dd904a1d",
            "metadata": {
                "execution": {
                    "iopub.execute_input": "2021-10-05T19:21:37.860664Z",
                    "iopub.status.busy": "2021-10-05T19:21:37.859594Z",
                    "iopub.status.idle": "2021-10-05T19:21:37.862282Z",
                    "shell.execute_reply": "2021-10-05T19:21:37.861658Z"
                },
                "id": "dd904a1d",
                "papermill": {
                    "duration": 0.042111,
                    "end_time": "2021-10-05T19:21:37.862421",
                    "exception": false,
                    "start_time": "2021-10-05T19:21:37.820310",
                    "status": "completed"
                },
                "tags": []
            },
            "outputs": [],
            "source": "# landing_outcomes = values on Outcome column\nlanding_outcomes = df.Outcome.value_counts()"
        },
        {
            "cell_type": "markdown",
            "id": "19814599",
            "metadata": {
                "id": "19814599",
                "papermill": {
                    "duration": 0.032266,
                    "end_time": "2021-10-05T19:21:37.927274",
                    "exception": false,
                    "start_time": "2021-10-05T19:21:37.895008",
                    "status": "completed"
                },
                "tags": []
            },
            "source": "<code>True Ocean</code> means the mission outcome was successfully  landed to a specific region of the ocean while <code>False Ocean</code> means the mission outcome was unsuccessfully landed to a specific region of the ocean. <code>True RTLS</code> means the mission outcome was successfully  landed to a ground pad <code>False RTLS</code> means the mission outcome was unsuccessfully landed to a ground pad.<code>True ASDS</code> means the mission outcome was successfully  landed to a drone ship <code>False ASDS</code> means the mission outcome was unsuccessfully landed to a drone ship. <code>None ASDS</code> and <code>None None</code> these represent a failure to land.\n"
        },
        {
            "cell_type": "code",
            "execution_count": 8,
            "id": "20134761",
            "metadata": {
                "colab": {
                    "base_uri": "https://localhost:8080/"
                },
                "execution": {
                    "iopub.execute_input": "2021-10-05T19:21:37.998065Z",
                    "iopub.status.busy": "2021-10-05T19:21:37.997100Z",
                    "iopub.status.idle": "2021-10-05T19:21:38.001575Z",
                    "shell.execute_reply": "2021-10-05T19:21:38.002020Z"
                },
                "id": "20134761",
                "outputId": "3f935cb4-31d3-48b4-dc0f-fe13eff26605",
                "papermill": {
                    "duration": 0.042829,
                    "end_time": "2021-10-05T19:21:38.002209",
                    "exception": false,
                    "start_time": "2021-10-05T19:21:37.959380",
                    "status": "completed"
                },
                "tags": []
            },
            "outputs": [
                {
                    "name": "stdout",
                    "output_type": "stream",
                    "text": "0 True ASDS\n1 None None\n2 True RTLS\n3 False ASDS\n4 True Ocean\n5 False Ocean\n6 None ASDS\n7 False RTLS\n"
                }
            ],
            "source": "for i,outcome in enumerate(landing_outcomes.keys()):\n    print(i,outcome)"
        },
        {
            "cell_type": "markdown",
            "id": "165e85dd",
            "metadata": {
                "id": "165e85dd",
                "papermill": {
                    "duration": 0.033037,
                    "end_time": "2021-10-05T19:21:38.068659",
                    "exception": false,
                    "start_time": "2021-10-05T19:21:38.035622",
                    "status": "completed"
                },
                "tags": []
            },
            "source": "We create a set of outcomes where the second stage did not land successfully:\n"
        },
        {
            "cell_type": "code",
            "execution_count": 9,
            "id": "fa1ba12f",
            "metadata": {
                "colab": {
                    "base_uri": "https://localhost:8080/"
                },
                "execution": {
                    "iopub.execute_input": "2021-10-05T19:21:38.140729Z",
                    "iopub.status.busy": "2021-10-05T19:21:38.140009Z",
                    "iopub.status.idle": "2021-10-05T19:21:38.143634Z",
                    "shell.execute_reply": "2021-10-05T19:21:38.144096Z"
                },
                "id": "fa1ba12f",
                "outputId": "400203e2-a471-4044-aaa9-e5e07a722768",
                "papermill": {
                    "duration": 0.042119,
                    "end_time": "2021-10-05T19:21:38.144311",
                    "exception": false,
                    "start_time": "2021-10-05T19:21:38.102192",
                    "status": "completed"
                },
                "tags": []
            },
            "outputs": [
                {
                    "data": {
                        "text/plain": "{'False ASDS', 'False Ocean', 'False RTLS', 'None ASDS', 'None None'}"
                    },
                    "execution_count": 9,
                    "metadata": {},
                    "output_type": "execute_result"
                }
            ],
            "source": "bad_outcomes=set(landing_outcomes.keys()[[1,3,5,6,7]])\nbad_outcomes"
        },
        {
            "cell_type": "markdown",
            "id": "e17a3169",
            "metadata": {
                "id": "e17a3169",
                "papermill": {
                    "duration": 0.03299,
                    "end_time": "2021-10-05T19:21:38.210370",
                    "exception": false,
                    "start_time": "2021-10-05T19:21:38.177380",
                    "status": "completed"
                },
                "tags": []
            },
            "source": "### TASK 4: Create a landing outcome label from Outcome column\n"
        },
        {
            "cell_type": "markdown",
            "id": "34c4e865",
            "metadata": {
                "id": "34c4e865",
                "papermill": {
                    "duration": 0.032656,
                    "end_time": "2021-10-05T19:21:38.275962",
                    "exception": false,
                    "start_time": "2021-10-05T19:21:38.243306",
                    "status": "completed"
                },
                "tags": []
            },
            "source": "Using the <code>Outcome</code>,  create a list where the element is zero if the corresponding  row  in  <code>Outcome</code> is in the set <code>bad_outcome</code>; otherwise, it's one. Then assign it to the variable <code>landing_class</code>:\n"
        },
        {
            "cell_type": "code",
            "execution_count": 10,
            "id": "f58cfdcf",
            "metadata": {
                "execution": {
                    "iopub.execute_input": "2021-10-05T19:21:38.345515Z",
                    "iopub.status.busy": "2021-10-05T19:21:38.344841Z",
                    "iopub.status.idle": "2021-10-05T19:21:38.349406Z",
                    "shell.execute_reply": "2021-10-05T19:21:38.349901Z"
                },
                "id": "f58cfdcf",
                "papermill": {
                    "duration": 0.041082,
                    "end_time": "2021-10-05T19:21:38.350096",
                    "exception": false,
                    "start_time": "2021-10-05T19:21:38.309014",
                    "status": "completed"
                },
                "tags": []
            },
            "outputs": [],
            "source": "landing_class = []\nfor key,value in df[\"Outcome\"].items():\n     if value in bad_outcomes:\n        landing_class.append(0)\n     else:\n        landing_class.append(1)\n"
        },
        {
            "cell_type": "markdown",
            "id": "21a620dd",
            "metadata": {
                "id": "21a620dd",
                "papermill": {
                    "duration": 0.032869,
                    "end_time": "2021-10-05T19:21:38.416256",
                    "exception": false,
                    "start_time": "2021-10-05T19:21:38.383387",
                    "status": "completed"
                },
                "tags": []
            },
            "source": "This variable will represent the classification variable that represents the outcome of each launch. If the value is zero, the  first stage did not land successfully; one means  the first stage landed Successfully\n"
        },
        {
            "cell_type": "code",
            "execution_count": 11,
            "id": "2b7224ab",
            "metadata": {
                "colab": {
                    "base_uri": "https://localhost:8080/",
                    "height": 300
                },
                "execution": {
                    "iopub.execute_input": "2021-10-05T19:21:38.485907Z",
                    "iopub.status.busy": "2021-10-05T19:21:38.485291Z",
                    "iopub.status.idle": "2021-10-05T19:21:38.498849Z",
                    "shell.execute_reply": "2021-10-05T19:21:38.498313Z"
                },
                "id": "2b7224ab",
                "outputId": "e7260a6f-c344-4d5a-c236-d6c6629b66e4",
                "papermill": {
                    "duration": 0.049524,
                    "end_time": "2021-10-05T19:21:38.498984",
                    "exception": false,
                    "start_time": "2021-10-05T19:21:38.449460",
                    "status": "completed"
                },
                "tags": []
            },
            "outputs": [
                {
                    "data": {
                        "text/html": "\n  <div id=\"df-63f04565-f223-4597-82ef-4916d9133f59\">\n    <div class=\"colab-df-container\">\n      <div>\n<style scoped>\n    .dataframe tbody tr th:only-of-type {\n        vertical-align: middle;\n    }\n\n    .dataframe tbody tr th {\n        vertical-align: top;\n    }\n\n    .dataframe thead th {\n        text-align: right;\n    }\n</style>\n<table border=\"1\" class=\"dataframe\">\n  <thead>\n    <tr style=\"text-align: right;\">\n      <th></th>\n      <th>Class</th>\n    </tr>\n  </thead>\n  <tbody>\n    <tr>\n      <th>0</th>\n      <td>0</td>\n    </tr>\n    <tr>\n      <th>1</th>\n      <td>0</td>\n    </tr>\n    <tr>\n      <th>2</th>\n      <td>0</td>\n    </tr>\n    <tr>\n      <th>3</th>\n      <td>0</td>\n    </tr>\n    <tr>\n      <th>4</th>\n      <td>0</td>\n    </tr>\n    <tr>\n      <th>5</th>\n      <td>0</td>\n    </tr>\n    <tr>\n      <th>6</th>\n      <td>1</td>\n    </tr>\n    <tr>\n      <th>7</th>\n      <td>1</td>\n    </tr>\n  </tbody>\n</table>\n</div>\n      <button class=\"colab-df-convert\" onclick=\"convertToInteractive('df-63f04565-f223-4597-82ef-4916d9133f59')\"\n              title=\"Convert this dataframe to an interactive table.\"\n              style=\"display:none;\">\n        \n  <svg xmlns=\"http://www.w3.org/2000/svg\" height=\"24px\"viewBox=\"0 0 24 24\"\n       width=\"24px\">\n    <path d=\"M0 0h24v24H0V0z\" fill=\"none\"/>\n    <path d=\"M18.56 5.44l.94 2.06.94-2.06 2.06-.94-2.06-.94-.94-2.06-.94 2.06-2.06.94zm-11 1L8.5 8.5l.94-2.06 2.06-.94-2.06-.94L8.5 2.5l-.94 2.06-2.06.94zm10 10l.94 2.06.94-2.06 2.06-.94-2.06-.94-.94-2.06-.94 2.06-2.06.94z\"/><path d=\"M17.41 7.96l-1.37-1.37c-.4-.4-.92-.59-1.43-.59-.52 0-1.04.2-1.43.59L10.3 9.45l-7.72 7.72c-.78.78-.78 2.05 0 2.83L4 21.41c.39.39.9.59 1.41.59.51 0 1.02-.2 1.41-.59l7.78-7.78 2.81-2.81c.8-.78.8-2.07 0-2.86zM5.41 20L4 18.59l7.72-7.72 1.47 1.35L5.41 20z\"/>\n  </svg>\n      </button>\n      \n  <style>\n    .colab-df-container {\n      display:flex;\n      flex-wrap:wrap;\n      gap: 12px;\n    }\n\n    .colab-df-convert {\n      background-color: #E8F0FE;\n      border: none;\n      border-radius: 50%;\n      cursor: pointer;\n      display: none;\n      fill: #1967D2;\n      height: 32px;\n      padding: 0 0 0 0;\n      width: 32px;\n    }\n\n    .colab-df-convert:hover {\n      background-color: #E2EBFA;\n      box-shadow: 0px 1px 2px rgba(60, 64, 67, 0.3), 0px 1px 3px 1px rgba(60, 64, 67, 0.15);\n      fill: #174EA6;\n    }\n\n    [theme=dark] .colab-df-convert {\n      background-color: #3B4455;\n      fill: #D2E3FC;\n    }\n\n    [theme=dark] .colab-df-convert:hover {\n      background-color: #434B5C;\n      box-shadow: 0px 1px 3px 1px rgba(0, 0, 0, 0.15);\n      filter: drop-shadow(0px 1px 2px rgba(0, 0, 0, 0.3));\n      fill: #FFFFFF;\n    }\n  </style>\n\n      <script>\n        const buttonEl =\n          document.querySelector('#df-63f04565-f223-4597-82ef-4916d9133f59 button.colab-df-convert');\n        buttonEl.style.display =\n          google.colab.kernel.accessAllowed ? 'block' : 'none';\n\n        async function convertToInteractive(key) {\n          const element = document.querySelector('#df-63f04565-f223-4597-82ef-4916d9133f59');\n          const dataTable =\n            await google.colab.kernel.invokeFunction('convertToInteractive',\n                                                     [key], {});\n          if (!dataTable) return;\n\n          const docLinkHtml = 'Like what you see? Visit the ' +\n            '<a target=\"_blank\" href=https://colab.research.google.com/notebooks/data_table.ipynb>data table notebook</a>'\n            + ' to learn more about interactive tables.';\n          element.innerHTML = '';\n          dataTable['output_type'] = 'display_data';\n          await google.colab.output.renderOutput(dataTable, element);\n          const docLink = document.createElement('div');\n          docLink.innerHTML = docLinkHtml;\n          element.appendChild(docLink);\n        }\n      </script>\n    </div>\n  </div>\n  ",
                        "text/plain": "   Class\n0      0\n1      0\n2      0\n3      0\n4      0\n5      0\n6      1\n7      1"
                    },
                    "execution_count": 11,
                    "metadata": {},
                    "output_type": "execute_result"
                }
            ],
            "source": "df['Class']=landing_class\ndf[['Class']].head(8)"
        },
        {
            "cell_type": "code",
            "execution_count": 12,
            "id": "5734f73d",
            "metadata": {
                "colab": {
                    "base_uri": "https://localhost:8080/",
                    "height": 580
                },
                "execution": {
                    "iopub.execute_input": "2021-10-05T19:21:38.589474Z",
                    "iopub.status.busy": "2021-10-05T19:21:38.588595Z",
                    "iopub.status.idle": "2021-10-05T19:21:38.592778Z",
                    "shell.execute_reply": "2021-10-05T19:21:38.592183Z"
                },
                "id": "5734f73d",
                "outputId": "7e202e40-9f3d-45a2-f5cb-425db3a5c182",
                "papermill": {
                    "duration": 0.060133,
                    "end_time": "2021-10-05T19:21:38.592910",
                    "exception": false,
                    "start_time": "2021-10-05T19:21:38.532777",
                    "status": "completed"
                },
                "tags": []
            },
            "outputs": [
                {
                    "data": {
                        "text/html": "\n  <div id=\"df-68816c29-07ad-4c8f-bb96-20c5fc371fb4\">\n    <div class=\"colab-df-container\">\n      <div>\n<style scoped>\n    .dataframe tbody tr th:only-of-type {\n        vertical-align: middle;\n    }\n\n    .dataframe tbody tr th {\n        vertical-align: top;\n    }\n\n    .dataframe thead th {\n        text-align: right;\n    }\n</style>\n<table border=\"1\" class=\"dataframe\">\n  <thead>\n    <tr style=\"text-align: right;\">\n      <th></th>\n      <th>FlightNumber</th>\n      <th>Date</th>\n      <th>BoosterVersion</th>\n      <th>PayloadMass</th>\n      <th>Orbit</th>\n      <th>LaunchSite</th>\n      <th>Outcome</th>\n      <th>Flights</th>\n      <th>GridFins</th>\n      <th>Reused</th>\n      <th>Legs</th>\n      <th>LandingPad</th>\n      <th>Block</th>\n      <th>ReusedCount</th>\n      <th>Serial</th>\n      <th>Longitude</th>\n      <th>Latitude</th>\n      <th>Class</th>\n    </tr>\n  </thead>\n  <tbody>\n    <tr>\n      <th>0</th>\n      <td>1</td>\n      <td>2010-06-04</td>\n      <td>Falcon 9</td>\n      <td>6104.959412</td>\n      <td>LEO</td>\n      <td>CCAFS SLC 40</td>\n      <td>None None</td>\n      <td>1</td>\n      <td>False</td>\n      <td>False</td>\n      <td>False</td>\n      <td>NaN</td>\n      <td>1.0</td>\n      <td>0</td>\n      <td>B0003</td>\n      <td>-80.577366</td>\n      <td>28.561857</td>\n      <td>0</td>\n    </tr>\n    <tr>\n      <th>1</th>\n      <td>2</td>\n      <td>2012-05-22</td>\n      <td>Falcon 9</td>\n      <td>525.000000</td>\n      <td>LEO</td>\n      <td>CCAFS SLC 40</td>\n      <td>None None</td>\n      <td>1</td>\n      <td>False</td>\n      <td>False</td>\n      <td>False</td>\n      <td>NaN</td>\n      <td>1.0</td>\n      <td>0</td>\n      <td>B0005</td>\n      <td>-80.577366</td>\n      <td>28.561857</td>\n      <td>0</td>\n    </tr>\n    <tr>\n      <th>2</th>\n      <td>3</td>\n      <td>2013-03-01</td>\n      <td>Falcon 9</td>\n      <td>677.000000</td>\n      <td>ISS</td>\n      <td>CCAFS SLC 40</td>\n      <td>None None</td>\n      <td>1</td>\n      <td>False</td>\n      <td>False</td>\n      <td>False</td>\n      <td>NaN</td>\n      <td>1.0</td>\n      <td>0</td>\n      <td>B0007</td>\n      <td>-80.577366</td>\n      <td>28.561857</td>\n      <td>0</td>\n    </tr>\n    <tr>\n      <th>3</th>\n      <td>4</td>\n      <td>2013-09-29</td>\n      <td>Falcon 9</td>\n      <td>500.000000</td>\n      <td>PO</td>\n      <td>VAFB SLC 4E</td>\n      <td>False Ocean</td>\n      <td>1</td>\n      <td>False</td>\n      <td>False</td>\n      <td>False</td>\n      <td>NaN</td>\n      <td>1.0</td>\n      <td>0</td>\n      <td>B1003</td>\n      <td>-120.610829</td>\n      <td>34.632093</td>\n      <td>0</td>\n    </tr>\n    <tr>\n      <th>4</th>\n      <td>5</td>\n      <td>2013-12-03</td>\n      <td>Falcon 9</td>\n      <td>3170.000000</td>\n      <td>GTO</td>\n      <td>CCAFS SLC 40</td>\n      <td>None None</td>\n      <td>1</td>\n      <td>False</td>\n      <td>False</td>\n      <td>False</td>\n      <td>NaN</td>\n      <td>1.0</td>\n      <td>0</td>\n      <td>B1004</td>\n      <td>-80.577366</td>\n      <td>28.561857</td>\n      <td>0</td>\n    </tr>\n    <tr>\n      <th>5</th>\n      <td>6</td>\n      <td>2014-01-06</td>\n      <td>Falcon 9</td>\n      <td>3325.000000</td>\n      <td>GTO</td>\n      <td>CCAFS SLC 40</td>\n      <td>None None</td>\n      <td>1</td>\n      <td>False</td>\n      <td>False</td>\n      <td>False</td>\n      <td>NaN</td>\n      <td>1.0</td>\n      <td>0</td>\n      <td>B1005</td>\n      <td>-80.577366</td>\n      <td>28.561857</td>\n      <td>0</td>\n    </tr>\n    <tr>\n      <th>6</th>\n      <td>7</td>\n      <td>2014-04-18</td>\n      <td>Falcon 9</td>\n      <td>2296.000000</td>\n      <td>ISS</td>\n      <td>CCAFS SLC 40</td>\n      <td>True Ocean</td>\n      <td>1</td>\n      <td>False</td>\n      <td>False</td>\n      <td>True</td>\n      <td>NaN</td>\n      <td>1.0</td>\n      <td>0</td>\n      <td>B1006</td>\n      <td>-80.577366</td>\n      <td>28.561857</td>\n      <td>1</td>\n    </tr>\n    <tr>\n      <th>7</th>\n      <td>8</td>\n      <td>2014-07-14</td>\n      <td>Falcon 9</td>\n      <td>1316.000000</td>\n      <td>LEO</td>\n      <td>CCAFS SLC 40</td>\n      <td>True Ocean</td>\n      <td>1</td>\n      <td>False</td>\n      <td>False</td>\n      <td>True</td>\n      <td>NaN</td>\n      <td>1.0</td>\n      <td>0</td>\n      <td>B1007</td>\n      <td>-80.577366</td>\n      <td>28.561857</td>\n      <td>1</td>\n    </tr>\n    <tr>\n      <th>8</th>\n      <td>9</td>\n      <td>2014-08-05</td>\n      <td>Falcon 9</td>\n      <td>4535.000000</td>\n      <td>GTO</td>\n      <td>CCAFS SLC 40</td>\n      <td>None None</td>\n      <td>1</td>\n      <td>False</td>\n      <td>False</td>\n      <td>False</td>\n      <td>NaN</td>\n      <td>1.0</td>\n      <td>0</td>\n      <td>B1008</td>\n      <td>-80.577366</td>\n      <td>28.561857</td>\n      <td>0</td>\n    </tr>\n    <tr>\n      <th>9</th>\n      <td>10</td>\n      <td>2014-09-07</td>\n      <td>Falcon 9</td>\n      <td>4428.000000</td>\n      <td>GTO</td>\n      <td>CCAFS SLC 40</td>\n      <td>None None</td>\n      <td>1</td>\n      <td>False</td>\n      <td>False</td>\n      <td>False</td>\n      <td>NaN</td>\n      <td>1.0</td>\n      <td>0</td>\n      <td>B1011</td>\n      <td>-80.577366</td>\n      <td>28.561857</td>\n      <td>0</td>\n    </tr>\n  </tbody>\n</table>\n</div>\n      <button class=\"colab-df-convert\" onclick=\"convertToInteractive('df-68816c29-07ad-4c8f-bb96-20c5fc371fb4')\"\n              title=\"Convert this dataframe to an interactive table.\"\n              style=\"display:none;\">\n        \n  <svg xmlns=\"http://www.w3.org/2000/svg\" height=\"24px\"viewBox=\"0 0 24 24\"\n       width=\"24px\">\n    <path d=\"M0 0h24v24H0V0z\" fill=\"none\"/>\n    <path d=\"M18.56 5.44l.94 2.06.94-2.06 2.06-.94-2.06-.94-.94-2.06-.94 2.06-2.06.94zm-11 1L8.5 8.5l.94-2.06 2.06-.94-2.06-.94L8.5 2.5l-.94 2.06-2.06.94zm10 10l.94 2.06.94-2.06 2.06-.94-2.06-.94-.94-2.06-.94 2.06-2.06.94z\"/><path d=\"M17.41 7.96l-1.37-1.37c-.4-.4-.92-.59-1.43-.59-.52 0-1.04.2-1.43.59L10.3 9.45l-7.72 7.72c-.78.78-.78 2.05 0 2.83L4 21.41c.39.39.9.59 1.41.59.51 0 1.02-.2 1.41-.59l7.78-7.78 2.81-2.81c.8-.78.8-2.07 0-2.86zM5.41 20L4 18.59l7.72-7.72 1.47 1.35L5.41 20z\"/>\n  </svg>\n      </button>\n      \n  <style>\n    .colab-df-container {\n      display:flex;\n      flex-wrap:wrap;\n      gap: 12px;\n    }\n\n    .colab-df-convert {\n      background-color: #E8F0FE;\n      border: none;\n      border-radius: 50%;\n      cursor: pointer;\n      display: none;\n      fill: #1967D2;\n      height: 32px;\n      padding: 0 0 0 0;\n      width: 32px;\n    }\n\n    .colab-df-convert:hover {\n      background-color: #E2EBFA;\n      box-shadow: 0px 1px 2px rgba(60, 64, 67, 0.3), 0px 1px 3px 1px rgba(60, 64, 67, 0.15);\n      fill: #174EA6;\n    }\n\n    [theme=dark] .colab-df-convert {\n      background-color: #3B4455;\n      fill: #D2E3FC;\n    }\n\n    [theme=dark] .colab-df-convert:hover {\n      background-color: #434B5C;\n      box-shadow: 0px 1px 3px 1px rgba(0, 0, 0, 0.15);\n      filter: drop-shadow(0px 1px 2px rgba(0, 0, 0, 0.3));\n      fill: #FFFFFF;\n    }\n  </style>\n\n      <script>\n        const buttonEl =\n          document.querySelector('#df-68816c29-07ad-4c8f-bb96-20c5fc371fb4 button.colab-df-convert');\n        buttonEl.style.display =\n          google.colab.kernel.accessAllowed ? 'block' : 'none';\n\n        async function convertToInteractive(key) {\n          const element = document.querySelector('#df-68816c29-07ad-4c8f-bb96-20c5fc371fb4');\n          const dataTable =\n            await google.colab.kernel.invokeFunction('convertToInteractive',\n                                                     [key], {});\n          if (!dataTable) return;\n\n          const docLinkHtml = 'Like what you see? Visit the ' +\n            '<a target=\"_blank\" href=https://colab.research.google.com/notebooks/data_table.ipynb>data table notebook</a>'\n            + ' to learn more about interactive tables.';\n          element.innerHTML = '';\n          dataTable['output_type'] = 'display_data';\n          await google.colab.output.renderOutput(dataTable, element);\n          const docLink = document.createElement('div');\n          docLink.innerHTML = docLinkHtml;\n          element.appendChild(docLink);\n        }\n      </script>\n    </div>\n  </div>\n  ",
                        "text/plain": "   FlightNumber        Date BoosterVersion  ...   Longitude   Latitude Class\n0             1  2010-06-04       Falcon 9  ...  -80.577366  28.561857     0\n1             2  2012-05-22       Falcon 9  ...  -80.577366  28.561857     0\n2             3  2013-03-01       Falcon 9  ...  -80.577366  28.561857     0\n3             4  2013-09-29       Falcon 9  ... -120.610829  34.632093     0\n4             5  2013-12-03       Falcon 9  ...  -80.577366  28.561857     0\n5             6  2014-01-06       Falcon 9  ...  -80.577366  28.561857     0\n6             7  2014-04-18       Falcon 9  ...  -80.577366  28.561857     1\n7             8  2014-07-14       Falcon 9  ...  -80.577366  28.561857     1\n8             9  2014-08-05       Falcon 9  ...  -80.577366  28.561857     0\n9            10  2014-09-07       Falcon 9  ...  -80.577366  28.561857     0\n\n[10 rows x 18 columns]"
                    },
                    "execution_count": 12,
                    "metadata": {},
                    "output_type": "execute_result"
                }
            ],
            "source": "df.head(10)"
        },
        {
            "cell_type": "code",
            "execution_count": 13,
            "id": "7467cde7",
            "metadata": {
                "colab": {
                    "base_uri": "https://localhost:8080/"
                },
                "execution": {
                    "iopub.execute_input": "2021-10-05T19:21:38.668720Z",
                    "iopub.status.busy": "2021-10-05T19:21:38.668086Z",
                    "iopub.status.idle": "2021-10-05T19:21:38.670396Z",
                    "shell.execute_reply": "2021-10-05T19:21:38.670987Z"
                },
                "id": "7467cde7",
                "outputId": "955c6b04-1e80-44cb-fbbb-b06c3fb87ee5",
                "papermill": {
                    "duration": 0.043697,
                    "end_time": "2021-10-05T19:21:38.671162",
                    "exception": false,
                    "start_time": "2021-10-05T19:21:38.627465",
                    "status": "completed"
                },
                "tags": []
            },
            "outputs": [
                {
                    "data": {
                        "text/plain": "True ASDS      41\nNone None      19\nTrue RTLS      14\nFalse ASDS      6\nTrue Ocean      5\nFalse Ocean     2\nNone ASDS       2\nFalse RTLS      1\nName: Outcome, dtype: int64"
                    },
                    "execution_count": 13,
                    "metadata": {},
                    "output_type": "execute_result"
                }
            ],
            "source": "df.Outcome.value_counts()"
        },
        {
            "cell_type": "code",
            "execution_count": 13,
            "id": "955f47e5",
            "metadata": {
                "id": "955f47e5",
                "papermill": {
                    "duration": 0.035816,
                    "end_time": "2021-10-05T19:21:38.742015",
                    "exception": false,
                    "start_time": "2021-10-05T19:21:38.706199",
                    "status": "completed"
                },
                "tags": []
            },
            "outputs": [],
            "source": ""
        },
        {
            "cell_type": "markdown",
            "id": "6d837b45",
            "metadata": {
                "id": "6d837b45",
                "papermill": {
                    "duration": 0.035629,
                    "end_time": "2021-10-05T19:21:38.813004",
                    "exception": false,
                    "start_time": "2021-10-05T19:21:38.777375",
                    "status": "completed"
                },
                "tags": []
            },
            "source": "We can use the following line of code to determine  the success rate:\n"
        },
        {
            "cell_type": "code",
            "execution_count": 14,
            "id": "14e18007",
            "metadata": {
                "colab": {
                    "base_uri": "https://localhost:8080/"
                },
                "execution": {
                    "iopub.execute_input": "2021-10-05T19:21:38.888959Z",
                    "iopub.status.busy": "2021-10-05T19:21:38.888313Z",
                    "iopub.status.idle": "2021-10-05T19:21:38.893572Z",
                    "shell.execute_reply": "2021-10-05T19:21:38.894168Z"
                },
                "id": "14e18007",
                "outputId": "a219bcbb-4a99-4622-8dbc-c255422c90f1",
                "papermill": {
                    "duration": 0.04619,
                    "end_time": "2021-10-05T19:21:38.894352",
                    "exception": false,
                    "start_time": "2021-10-05T19:21:38.848162",
                    "status": "completed"
                },
                "tags": []
            },
            "outputs": [
                {
                    "data": {
                        "text/plain": "0.6666666666666666"
                    },
                    "execution_count": 14,
                    "metadata": {},
                    "output_type": "execute_result"
                }
            ],
            "source": "df[\"Class\"].mean()"
        },
        {
            "cell_type": "markdown",
            "id": "0153b197",
            "metadata": {
                "id": "0153b197",
                "papermill": {
                    "duration": 0.03549,
                    "end_time": "2021-10-05T19:21:38.965505",
                    "exception": false,
                    "start_time": "2021-10-05T19:21:38.930015",
                    "status": "completed"
                },
                "tags": []
            },
            "source": "We can now export it to a CSV for the next section,but to make the answers consistent, in the next lab we will provide data in a pre-selected date range.\n"
        },
        {
            "cell_type": "markdown",
            "id": "9a9a11ee",
            "metadata": {
                "id": "9a9a11ee",
                "papermill": {
                    "duration": 0.03523,
                    "end_time": "2021-10-05T19:21:39.036386",
                    "exception": false,
                    "start_time": "2021-10-05T19:21:39.001156",
                    "status": "completed"
                },
                "tags": []
            },
            "source": "<code>df.to_csv(\"dataset_part\\_2.csv\", index=False)</code>\n"
        },
        {
            "cell_type": "code",
            "execution_count": 15,
            "id": "7e0a51ec",
            "metadata": {
                "colab": {
                    "base_uri": "https://localhost:8080/",
                    "height": 35
                },
                "execution": {
                    "iopub.execute_input": "2021-10-05T19:21:39.110867Z",
                    "iopub.status.busy": "2021-10-05T19:21:39.110223Z",
                    "iopub.status.idle": "2021-10-05T19:21:39.115005Z",
                    "shell.execute_reply": "2021-10-05T19:21:39.115541Z"
                },
                "id": "7e0a51ec",
                "outputId": "cb06efcb-cb89-4987-cd6e-5a10dc478149",
                "papermill": {
                    "duration": 0.043614,
                    "end_time": "2021-10-05T19:21:39.115704",
                    "exception": false,
                    "start_time": "2021-10-05T19:21:39.072090",
                    "status": "completed"
                },
                "tags": []
            },
            "outputs": [
                {
                    "data": {
                        "application/vnd.google.colaboratory.intrinsic+json": {
                            "type": "string"
                        },
                        "text/plain": "'/content'"
                    },
                    "execution_count": 15,
                    "metadata": {},
                    "output_type": "execute_result"
                }
            ],
            "source": "pwd"
        },
        {
            "cell_type": "code",
            "execution_count": 16,
            "id": "560d8867",
            "metadata": {
                "colab": {
                    "base_uri": "https://localhost:8080/",
                    "height": 310
                },
                "execution": {
                    "iopub.execute_input": "2021-10-05T19:21:39.191347Z",
                    "iopub.status.busy": "2021-10-05T19:21:39.190673Z",
                    "iopub.status.idle": "2021-10-05T19:21:39.272903Z",
                    "shell.execute_reply": "2021-10-05T19:21:39.272222Z"
                },
                "id": "560d8867",
                "outputId": "b3b99b83-0825-4993-cde1-ba5061e7e20e",
                "papermill": {
                    "duration": 0.12142,
                    "end_time": "2021-10-05T19:21:39.273203",
                    "exception": true,
                    "start_time": "2021-10-05T19:21:39.151783",
                    "status": "failed"
                },
                "tags": []
            },
            "outputs": [
                {
                    "ename": "FileNotFoundError",
                    "evalue": "ignored",
                    "output_type": "error",
                    "traceback": [
                        "\u001b[0;31m---------------------------------------------------------------------------\u001b[0m",
                        "\u001b[0;31mFileNotFoundError\u001b[0m                         Traceback (most recent call last)",
                        "\u001b[0;32m<ipython-input-16-d223c597f4e3>\u001b[0m in \u001b[0;36m<module>\u001b[0;34m()\u001b[0m\n\u001b[0;32m----> 1\u001b[0;31m \u001b[0mdf\u001b[0m\u001b[0;34m.\u001b[0m\u001b[0mto_csv\u001b[0m\u001b[0;34m(\u001b[0m\u001b[0;34m'/home/tumisang/Desktop/IBM Data Science/10. Applied Data Science Capstone Project/dataset_part_2.csv'\u001b[0m\u001b[0;34m,\u001b[0m\u001b[0mindex\u001b[0m\u001b[0;34m=\u001b[0m\u001b[0;32mFalse\u001b[0m\u001b[0;34m)\u001b[0m\u001b[0;34m\u001b[0m\u001b[0;34m\u001b[0m\u001b[0m\n\u001b[0m",
                        "\u001b[0;32m/usr/local/lib/python3.7/dist-packages/pandas/core/generic.py\u001b[0m in \u001b[0;36mto_csv\u001b[0;34m(self, path_or_buf, sep, na_rep, float_format, columns, header, index, index_label, mode, encoding, compression, quoting, quotechar, line_terminator, chunksize, date_format, doublequote, escapechar, decimal, errors, storage_options)\u001b[0m\n\u001b[1;32m   3480\u001b[0m             \u001b[0mdoublequote\u001b[0m\u001b[0;34m=\u001b[0m\u001b[0mdoublequote\u001b[0m\u001b[0;34m,\u001b[0m\u001b[0;34m\u001b[0m\u001b[0;34m\u001b[0m\u001b[0m\n\u001b[1;32m   3481\u001b[0m             \u001b[0mescapechar\u001b[0m\u001b[0;34m=\u001b[0m\u001b[0mescapechar\u001b[0m\u001b[0;34m,\u001b[0m\u001b[0;34m\u001b[0m\u001b[0;34m\u001b[0m\u001b[0m\n\u001b[0;32m-> 3482\u001b[0;31m             \u001b[0mstorage_options\u001b[0m\u001b[0;34m=\u001b[0m\u001b[0mstorage_options\u001b[0m\u001b[0;34m,\u001b[0m\u001b[0;34m\u001b[0m\u001b[0;34m\u001b[0m\u001b[0m\n\u001b[0m\u001b[1;32m   3483\u001b[0m         )\n\u001b[1;32m   3484\u001b[0m \u001b[0;34m\u001b[0m\u001b[0m\n",
                        "\u001b[0;32m/usr/local/lib/python3.7/dist-packages/pandas/io/formats/format.py\u001b[0m in \u001b[0;36mto_csv\u001b[0;34m(self, path_or_buf, encoding, sep, columns, index_label, mode, compression, quoting, quotechar, line_terminator, chunksize, date_format, doublequote, escapechar, errors, storage_options)\u001b[0m\n\u001b[1;32m   1103\u001b[0m             \u001b[0mformatter\u001b[0m\u001b[0;34m=\u001b[0m\u001b[0mself\u001b[0m\u001b[0;34m.\u001b[0m\u001b[0mfmt\u001b[0m\u001b[0;34m,\u001b[0m\u001b[0;34m\u001b[0m\u001b[0;34m\u001b[0m\u001b[0m\n\u001b[1;32m   1104\u001b[0m         )\n\u001b[0;32m-> 1105\u001b[0;31m         \u001b[0mcsv_formatter\u001b[0m\u001b[0;34m.\u001b[0m\u001b[0msave\u001b[0m\u001b[0;34m(\u001b[0m\u001b[0;34m)\u001b[0m\u001b[0;34m\u001b[0m\u001b[0;34m\u001b[0m\u001b[0m\n\u001b[0m\u001b[1;32m   1106\u001b[0m \u001b[0;34m\u001b[0m\u001b[0m\n\u001b[1;32m   1107\u001b[0m         \u001b[0;32mif\u001b[0m \u001b[0mcreated_buffer\u001b[0m\u001b[0;34m:\u001b[0m\u001b[0;34m\u001b[0m\u001b[0;34m\u001b[0m\u001b[0m\n",
                        "\u001b[0;32m/usr/local/lib/python3.7/dist-packages/pandas/io/formats/csvs.py\u001b[0m in \u001b[0;36msave\u001b[0;34m(self)\u001b[0m\n\u001b[1;32m    241\u001b[0m             \u001b[0merrors\u001b[0m\u001b[0;34m=\u001b[0m\u001b[0mself\u001b[0m\u001b[0;34m.\u001b[0m\u001b[0merrors\u001b[0m\u001b[0;34m,\u001b[0m\u001b[0;34m\u001b[0m\u001b[0;34m\u001b[0m\u001b[0m\n\u001b[1;32m    242\u001b[0m             \u001b[0mcompression\u001b[0m\u001b[0;34m=\u001b[0m\u001b[0mself\u001b[0m\u001b[0;34m.\u001b[0m\u001b[0mcompression\u001b[0m\u001b[0;34m,\u001b[0m\u001b[0;34m\u001b[0m\u001b[0;34m\u001b[0m\u001b[0m\n\u001b[0;32m--> 243\u001b[0;31m             \u001b[0mstorage_options\u001b[0m\u001b[0;34m=\u001b[0m\u001b[0mself\u001b[0m\u001b[0;34m.\u001b[0m\u001b[0mstorage_options\u001b[0m\u001b[0;34m,\u001b[0m\u001b[0;34m\u001b[0m\u001b[0;34m\u001b[0m\u001b[0m\n\u001b[0m\u001b[1;32m    244\u001b[0m         ) as handles:\n\u001b[1;32m    245\u001b[0m \u001b[0;34m\u001b[0m\u001b[0m\n",
                        "\u001b[0;32m/usr/local/lib/python3.7/dist-packages/pandas/io/common.py\u001b[0m in \u001b[0;36mget_handle\u001b[0;34m(path_or_buf, mode, encoding, compression, memory_map, is_text, errors, storage_options)\u001b[0m\n\u001b[1;32m    705\u001b[0m                 \u001b[0mencoding\u001b[0m\u001b[0;34m=\u001b[0m\u001b[0mioargs\u001b[0m\u001b[0;34m.\u001b[0m\u001b[0mencoding\u001b[0m\u001b[0;34m,\u001b[0m\u001b[0;34m\u001b[0m\u001b[0;34m\u001b[0m\u001b[0m\n\u001b[1;32m    706\u001b[0m                 \u001b[0merrors\u001b[0m\u001b[0;34m=\u001b[0m\u001b[0merrors\u001b[0m\u001b[0;34m,\u001b[0m\u001b[0;34m\u001b[0m\u001b[0;34m\u001b[0m\u001b[0m\n\u001b[0;32m--> 707\u001b[0;31m                 \u001b[0mnewline\u001b[0m\u001b[0;34m=\u001b[0m\u001b[0;34m\"\"\u001b[0m\u001b[0;34m,\u001b[0m\u001b[0;34m\u001b[0m\u001b[0;34m\u001b[0m\u001b[0m\n\u001b[0m\u001b[1;32m    708\u001b[0m             )\n\u001b[1;32m    709\u001b[0m         \u001b[0;32melse\u001b[0m\u001b[0;34m:\u001b[0m\u001b[0;34m\u001b[0m\u001b[0;34m\u001b[0m\u001b[0m\n",
                        "\u001b[0;31mFileNotFoundError\u001b[0m: [Errno 2] No such file or directory: '/home/tumisang/Desktop/IBM Data Science/10. Applied Data Science Capstone Project/dataset_part_2.csv'"
                    ]
                }
            ],
            "source": "df.to_csv('/home/tumisang/Desktop/IBM Data Science/10. Applied Data Science Capstone Project/dataset_part_2.csv',index=False)"
        },
        {
            "cell_type": "markdown",
            "id": "b3b93321",
            "metadata": {
                "id": "b3b93321",
                "papermill": {
                    "duration": null,
                    "end_time": null,
                    "exception": null,
                    "start_time": null,
                    "status": "pending"
                },
                "tags": []
            },
            "source": "## Authors\n"
        },
        {
            "cell_type": "markdown",
            "id": "59e7e1fe",
            "metadata": {
                "id": "59e7e1fe",
                "papermill": {
                    "duration": null,
                    "end_time": null,
                    "exception": null,
                    "start_time": null,
                    "status": "pending"
                },
                "tags": []
            },
            "source": "<a href=\"https://www.linkedin.com/in/joseph-s-50398b136/?utm_medium=Exinfluencer&utm_source=Exinfluencer&utm_content=000026UJ&utm_term=10006555&utm_id=NA-SkillsNetwork-Channel-SkillsNetworkCoursesIBMDS0321ENSkillsNetwork26802033-2021-01-01\">Joseph Santarcangelo</a> has a PhD in Electrical Engineering, his research focused on using machine learning, signal processing, and computer vision to determine how videos impact human cognition. Joseph has been working for IBM since he completed his PhD.\n"
        },
        {
            "cell_type": "markdown",
            "id": "67c3fe52",
            "metadata": {
                "id": "67c3fe52",
                "papermill": {
                    "duration": null,
                    "end_time": null,
                    "exception": null,
                    "start_time": null,
                    "status": "pending"
                },
                "tags": []
            },
            "source": "<a href=\"https://www.linkedin.com/in/nayefaboutayoun/?utm_medium=Exinfluencer&utm_source=Exinfluencer&utm_content=000026UJ&utm_term=10006555&utm_id=NA-SkillsNetwork-Channel-SkillsNetworkCoursesIBMDS0321ENSkillsNetwork26802033-2021-01-01\">Nayef Abou Tayoun</a> is a Data Scientist at IBM and pursuing a Master of Management in Artificial intelligence degree at Queen's University.\n"
        },
        {
            "cell_type": "markdown",
            "id": "093feb28",
            "metadata": {
                "id": "093feb28",
                "papermill": {
                    "duration": null,
                    "end_time": null,
                    "exception": null,
                    "start_time": null,
                    "status": "pending"
                },
                "tags": []
            },
            "source": "## Change Log\n"
        },
        {
            "cell_type": "markdown",
            "id": "75c87922",
            "metadata": {
                "id": "75c87922",
                "papermill": {
                    "duration": null,
                    "end_time": null,
                    "exception": null,
                    "start_time": null,
                    "status": "pending"
                },
                "tags": []
            },
            "source": "| Date (YYYY-MM-DD) | Version | Changed By    | Change Description      |\n| ----------------- | ------- | ------------- | ----------------------- |\n| 2021-08-31        | 1.1     | Lakshmi Holla | Changed Markdown        |\n| 2020-09-20        | 1.0     | Joseph        | Modified Multiple Areas |\n| 2020-11-04        | 1.1.    | Nayef         | updating the input data |\n| 2021-05-026       | 1.1.    | Joseph        | updating the input data |\n"
        },
        {
            "cell_type": "markdown",
            "id": "3bf14656",
            "metadata": {
                "id": "3bf14656",
                "papermill": {
                    "duration": null,
                    "end_time": null,
                    "exception": null,
                    "start_time": null,
                    "status": "pending"
                },
                "tags": []
            },
            "source": "Copyright \u00a9 2021 IBM Corporation. All rights reserved.\n"
        }
    ],
    "metadata": {
        "colab": {
            "name": "spacex-3-data-wrangling(Answers).ipynb",
            "provenance": []
        },
        "kernelspec": {
            "display_name": "Python 3.8",
            "language": "python",
            "name": "python3"
        },
        "language_info": {
            "codemirror_mode": {
                "name": "ipython",
                "version": 3
            },
            "file_extension": ".py",
            "mimetype": "text/x-python",
            "name": "python",
            "nbconvert_exporter": "python",
            "pygments_lexer": "ipython3",
            "version": "3.8.12"
        },
        "papermill": {
            "default_parameters": {},
            "duration": 12.769445,
            "end_time": "2021-10-05T19:21:39.818876",
            "environment_variables": {},
            "exception": true,
            "input_path": "__notebook__.ipynb",
            "output_path": "__notebook__.ipynb",
            "parameters": {},
            "start_time": "2021-10-05T19:21:27.049431",
            "version": "2.3.3"
        }
    },
    "nbformat": 4,
    "nbformat_minor": 5
}