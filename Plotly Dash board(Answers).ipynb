{
    "cells": [
        {
            "cell_type": "code",
            "execution_count": 1,
            "metadata": {
                "colab": {
                    "base_uri": "https://localhost:8080/"
                },
                "id": "Nv7ESupp6FRv",
                "outputId": "6adbe9ae-4718-481d-eaba-1431ccc986a2"
            },
            "outputs": [
                {
                    "name": "stdout",
                    "output_type": "stream",
                    "text": "Requirement already satisfied: pandas in /opt/conda/envs/Python-3.8-main/lib/python3.8/site-packages (1.2.4)\nCollecting dash\n  Using cached dash-2.2.0-py3-none-any.whl (8.5 MB)\nRequirement already satisfied: python-dateutil>=2.7.3 in /opt/conda/envs/Python-3.8-main/lib/python3.8/site-packages (from pandas) (2.8.1)\nRequirement already satisfied: pytz>=2017.3 in /opt/conda/envs/Python-3.8-main/lib/python3.8/site-packages (from pandas) (2021.1)\nRequirement already satisfied: numpy>=1.16.5 in /opt/conda/envs/Python-3.8-main/lib/python3.8/site-packages (from pandas) (1.19.2)\nRequirement already satisfied: six>=1.5 in /opt/conda/envs/Python-3.8-main/lib/python3.8/site-packages (from python-dateutil>=2.7.3->pandas) (1.15.0)\nCollecting flask-compress\n  Using cached Flask_Compress-1.10.1-py3-none-any.whl (7.9 kB)\nCollecting dash-html-components==2.0.0\n  Using cached dash_html_components-2.0.0-py3-none-any.whl\nCollecting dash-core-components==2.0.0\n  Using cached dash_core_components-2.0.0-py3-none-any.whl\nCollecting dash-table==5.0.0\n  Using cached dash_table-5.0.0-py3-none-any.whl\nCollecting plotly>=5.0.0\n  Using cached plotly-5.6.0-py2.py3-none-any.whl (27.7 MB)\nRequirement already satisfied: Flask>=1.0.4 in /opt/conda/envs/Python-3.8-main/lib/python3.8/site-packages (from dash) (2.0.3)\nRequirement already satisfied: itsdangerous>=2.0 in /opt/conda/envs/Python-3.8-main/lib/python3.8/site-packages (from Flask>=1.0.4->dash) (2.1.0)\nRequirement already satisfied: Jinja2>=3.0 in /opt/conda/envs/Python-3.8-main/lib/python3.8/site-packages (from Flask>=1.0.4->dash) (3.0.0)\nRequirement already satisfied: click>=7.1.2 in /opt/conda/envs/Python-3.8-main/lib/python3.8/site-packages (from Flask>=1.0.4->dash) (7.1.2)\nRequirement already satisfied: Werkzeug>=2.0 in /opt/conda/envs/Python-3.8-main/lib/python3.8/site-packages (from Flask>=1.0.4->dash) (2.0.1)\nRequirement already satisfied: MarkupSafe>=2.0.0rc2 in /opt/conda/envs/Python-3.8-main/lib/python3.8/site-packages (from Jinja2>=3.0->Flask>=1.0.4->dash) (2.0.1)\nRequirement already satisfied: tenacity>=6.2.0 in /opt/conda/envs/Python-3.8-main/lib/python3.8/site-packages (from plotly>=5.0.0->dash) (8.0.1)\nRequirement already satisfied: brotli in /opt/conda/envs/Python-3.8-main/lib/python3.8/site-packages (from flask-compress->dash) (1.0.9)\nInstalling collected packages: plotly, flask-compress, dash-table, dash-html-components, dash-core-components, dash\n  Attempting uninstall: plotly\n    Found existing installation: plotly 4.14.3\n    Uninstalling plotly-4.14.3:\n      Successfully uninstalled plotly-4.14.3\nSuccessfully installed dash-2.2.0 dash-core-components-2.0.0 dash-html-components-2.0.0 dash-table-5.0.0 flask-compress-1.10.1 plotly-5.6.0\nCollecting jupyter-dash\n  Downloading jupyter_dash-0.4.1-py3-none-any.whl (17 kB)\nCollecting ansi2html\n  Downloading ansi2html-1.7.0-py3-none-any.whl (15 kB)\nRequirement already satisfied: retrying in /opt/conda/envs/Python-3.8-main/lib/python3.8/site-packages (from jupyter-dash) (1.3.3)\nRequirement already satisfied: ipykernel in /opt/conda/envs/Python-3.8-main/lib/python3.8/site-packages (from jupyter-dash) (6.4.1)\nRequirement already satisfied: flask in /opt/conda/envs/Python-3.8-main/lib/python3.8/site-packages (from jupyter-dash) (2.0.3)\nRequirement already satisfied: ipython in /opt/conda/envs/Python-3.8-main/lib/python3.8/site-packages (from jupyter-dash) (7.27.0)\nRequirement already satisfied: requests in /opt/conda/envs/Python-3.8-main/lib/python3.8/site-packages (from jupyter-dash) (2.25.1)\nRequirement already satisfied: dash in /opt/conda/envs/Python-3.8-main/lib/python3.8/site-packages (from jupyter-dash) (2.2.0)\nRequirement already satisfied: dash-core-components==2.0.0 in /opt/conda/envs/Python-3.8-main/lib/python3.8/site-packages (from dash->jupyter-dash) (2.0.0)\nRequirement already satisfied: plotly>=5.0.0 in /opt/conda/envs/Python-3.8-main/lib/python3.8/site-packages (from dash->jupyter-dash) (5.6.0)\nRequirement already satisfied: flask-compress in /opt/conda/envs/Python-3.8-main/lib/python3.8/site-packages (from dash->jupyter-dash) (1.10.1)\nRequirement already satisfied: dash-html-components==2.0.0 in /opt/conda/envs/Python-3.8-main/lib/python3.8/site-packages (from dash->jupyter-dash) (2.0.0)\nRequirement already satisfied: dash-table==5.0.0 in /opt/conda/envs/Python-3.8-main/lib/python3.8/site-packages (from dash->jupyter-dash) (5.0.0)\nRequirement already satisfied: click>=7.1.2 in /opt/conda/envs/Python-3.8-main/lib/python3.8/site-packages (from flask->jupyter-dash) (7.1.2)\nRequirement already satisfied: itsdangerous>=2.0 in /opt/conda/envs/Python-3.8-main/lib/python3.8/site-packages (from flask->jupyter-dash) (2.1.0)\nRequirement already satisfied: Werkzeug>=2.0 in /opt/conda/envs/Python-3.8-main/lib/python3.8/site-packages (from flask->jupyter-dash) (2.0.1)\nRequirement already satisfied: Jinja2>=3.0 in /opt/conda/envs/Python-3.8-main/lib/python3.8/site-packages (from flask->jupyter-dash) (3.0.0)\nRequirement already satisfied: MarkupSafe>=2.0.0rc2 in /opt/conda/envs/Python-3.8-main/lib/python3.8/site-packages (from Jinja2>=3.0->flask->jupyter-dash) (2.0.1)\nRequirement already satisfied: six in /opt/conda/envs/Python-3.8-main/lib/python3.8/site-packages (from plotly>=5.0.0->dash->jupyter-dash) (1.15.0)\nRequirement already satisfied: tenacity>=6.2.0 in /opt/conda/envs/Python-3.8-main/lib/python3.8/site-packages (from plotly>=5.0.0->dash->jupyter-dash) (8.0.1)\nRequirement already satisfied: brotli in /opt/conda/envs/Python-3.8-main/lib/python3.8/site-packages (from flask-compress->dash->jupyter-dash) (1.0.9)\nRequirement already satisfied: debugpy<2.0,>=1.0.0 in /opt/conda/envs/Python-3.8-main/lib/python3.8/site-packages (from ipykernel->jupyter-dash) (1.4.1)\nRequirement already satisfied: ipython-genutils in /opt/conda/envs/Python-3.8-main/lib/python3.8/site-packages (from ipykernel->jupyter-dash) (0.2.0)\nRequirement already satisfied: traitlets<6.0,>=4.1.0 in /opt/conda/envs/Python-3.8-main/lib/python3.8/site-packages (from ipykernel->jupyter-dash) (5.0.5)\nRequirement already satisfied: tornado<7.0,>=4.2 in /opt/conda/envs/Python-3.8-main/lib/python3.8/site-packages (from ipykernel->jupyter-dash) (6.1)\nRequirement already satisfied: matplotlib-inline<0.2.0,>=0.1.0 in /opt/conda/envs/Python-3.8-main/lib/python3.8/site-packages (from ipykernel->jupyter-dash) (0.1.2)\nRequirement already satisfied: jupyter-client<8.0 in /opt/conda/envs/Python-3.8-main/lib/python3.8/site-packages (from ipykernel->jupyter-dash) (6.1.12)\nRequirement already satisfied: backcall in /opt/conda/envs/Python-3.8-main/lib/python3.8/site-packages (from ipython->jupyter-dash) (0.2.0)\nRequirement already satisfied: pexpect>4.3 in /opt/conda/envs/Python-3.8-main/lib/python3.8/site-packages (from ipython->jupyter-dash) (4.8.0)\nRequirement already satisfied: pickleshare in /opt/conda/envs/Python-3.8-main/lib/python3.8/site-packages (from ipython->jupyter-dash) (0.7.5)\nRequirement already satisfied: decorator in /opt/conda/envs/Python-3.8-main/lib/python3.8/site-packages (from ipython->jupyter-dash) (5.0.9)\nRequirement already satisfied: pygments in /opt/conda/envs/Python-3.8-main/lib/python3.8/site-packages (from ipython->jupyter-dash) (2.9.0)\nRequirement already satisfied: jedi>=0.16 in /opt/conda/envs/Python-3.8-main/lib/python3.8/site-packages (from ipython->jupyter-dash) (0.17.2)\nRequirement already satisfied: prompt-toolkit!=3.0.0,!=3.0.1,<3.1.0,>=2.0.0 in /opt/conda/envs/Python-3.8-main/lib/python3.8/site-packages (from ipython->jupyter-dash) (3.0.20)\nRequirement already satisfied: setuptools>=18.5 in /opt/conda/envs/Python-3.8-main/lib/python3.8/site-packages (from ipython->jupyter-dash) (52.0.0.post20211006)\nRequirement already satisfied: parso<0.8.0,>=0.7.0 in /opt/conda/envs/Python-3.8-main/lib/python3.8/site-packages (from jedi>=0.16->ipython->jupyter-dash) (0.7.0)\nRequirement already satisfied: python-dateutil>=2.1 in /opt/conda/envs/Python-3.8-main/lib/python3.8/site-packages (from jupyter-client<8.0->ipykernel->jupyter-dash) (2.8.1)\nRequirement already satisfied: jupyter-core>=4.6.0 in /opt/conda/envs/Python-3.8-main/lib/python3.8/site-packages (from jupyter-client<8.0->ipykernel->jupyter-dash) (4.7.1)\nRequirement already satisfied: pyzmq>=13 in /opt/conda/envs/Python-3.8-main/lib/python3.8/site-packages (from jupyter-client<8.0->ipykernel->jupyter-dash) (20.0.0)\nRequirement already satisfied: ptyprocess>=0.5 in /opt/conda/envs/Python-3.8-main/lib/python3.8/site-packages (from pexpect>4.3->ipython->jupyter-dash) (0.7.0)\nRequirement already satisfied: wcwidth in /opt/conda/envs/Python-3.8-main/lib/python3.8/site-packages (from prompt-toolkit!=3.0.0,!=3.0.1,<3.1.0,>=2.0.0->ipython->jupyter-dash) (0.2.5)\nRequirement already satisfied: urllib3<1.27,>=1.21.1 in /opt/conda/envs/Python-3.8-main/lib/python3.8/site-packages (from requests->jupyter-dash) (1.26.6)\nRequirement already satisfied: certifi>=2017.4.17 in /opt/conda/envs/Python-3.8-main/lib/python3.8/site-packages (from requests->jupyter-dash) (2021.10.8)\nRequirement already satisfied: idna<3,>=2.5 in /opt/conda/envs/Python-3.8-main/lib/python3.8/site-packages (from requests->jupyter-dash) (2.8)\nRequirement already satisfied: chardet<5,>=3.0.2 in /opt/conda/envs/Python-3.8-main/lib/python3.8/site-packages (from requests->jupyter-dash) (3.0.4)\nInstalling collected packages: ansi2html, jupyter-dash\nSuccessfully installed ansi2html-1.7.0 jupyter-dash-0.4.1\n"
                }
            ],
            "source": "!pip install pandas dash\n!pip install jupyter-dash"
        },
        {
            "cell_type": "code",
            "execution_count": 4,
            "metadata": {
                "colab": {
                    "base_uri": "https://localhost:8080/"
                },
                "id": "gzVX-MV06L9M",
                "outputId": "4cb22382-29fd-4224-b5c6-bab46cc4160d"
            },
            "outputs": [
                {
                    "name": "stdout",
                    "output_type": "stream",
                    "text": "--2022-02-21 10:58:02--  https://cf-courses-data.s3.us.cloud-object-storage.appdomain.cloud/IBM-DS0321EN-SkillsNetwork/datasets/spacex_launch_dash.csv\nResolving cf-courses-data.s3.us.cloud-object-storage.appdomain.cloud (cf-courses-data.s3.us.cloud-object-storage.appdomain.cloud)... 169.63.118.104\nConnecting to cf-courses-data.s3.us.cloud-object-storage.appdomain.cloud (cf-courses-data.s3.us.cloud-object-storage.appdomain.cloud)|169.63.118.104|:443... connected.\nHTTP request sent, awaiting response... 200 OK\nLength: 3033 (3.0K) [text/csv]\nSaving to: \u2018spacex_launch_dash.csv.1\u2019\n\nspacex_launch_dash. 100%[===================>]   2.96K  --.-KB/s    in 0s      \n\n2022-02-21 10:58:03 (48.0 MB/s) - \u2018spacex_launch_dash.csv.1\u2019 saved [3033/3033]\n\n"
                }
            ],
            "source": "!wget \"https://cf-courses-data.s3.us.cloud-object-storage.appdomain.cloud/IBM-DS0321EN-SkillsNetwork/datasets/spacex_launch_dash.csv\""
        },
        {
            "cell_type": "code",
            "execution_count": 5,
            "metadata": {
                "colab": {
                    "base_uri": "https://localhost:8080/",
                    "height": 671
                },
                "id": "Lz1e7vdk6XYa",
                "outputId": "f271e538-b6cf-4302-dad7-a355804ce5d8"
            },
            "outputs": [
                {
                    "name": "stderr",
                    "output_type": "stream",
                    "text": "/opt/conda/envs/Python-3.8-main/lib/python3.8/site-packages/jupyter_dash/jupyter_app.py:139: UserWarning: The 'environ['werkzeug.server.shutdown']' function is deprecated and will be removed in Werkzeug 2.1.\n  func()\n"
                },
                {
                    "data": {
                        "text/html": "\n        <iframe\n            width=\"100%\"\n            height=\"650\"\n            src=\"http://127.0.0.1:8050/\"\n            frameborder=\"0\"\n            allowfullscreen\n        ></iframe>\n        ",
                        "text/plain": "<IPython.lib.display.IFrame at 0x7fd1a3bda400>"
                    },
                    "metadata": {},
                    "output_type": "display_data"
                }
            ],
            "source": "# Import required libraries\nfrom jupyter_dash import JupyterDash\nimport pandas as pd\nimport dash\nfrom dash import dcc\nfrom dash import html\nfrom dash.dependencies import Input, Output, State\nimport plotly.graph_objects as go\nimport plotly.express as px\nfrom dash import no_update\n\n# Read the airline data into pandas dataframe\nspacex_df = pd.read_csv(\"spacex_launch_dash.csv\")\nmax_payload = spacex_df['Payload Mass (kg)'].max()\nmin_payload = spacex_df['Payload Mass (kg)'].min()\n\n# Create a dash application\napp = JupyterDash(__name__)\n\n# Create an app layout\napp.layout = html.Div(children=[html.H1('SpaceX Launch Records Dashboard',\n                                        style={'textAlign': 'center', 'color': '#503D36',\n                                               'font-size': 40}),\n                                # TASK 1: Add a dropdown list to enable Launch Site selection\n                                # The default select value is for ALL sites\n                                dcc.Dropdown(id='site-dropdown',\n                                             options=[\n                                                {'label': 'All Sites', 'value': 'ALL'},\n                                                {'label': 'CCAFS LC-40', 'value': 'CCAFS LC-40'},\n                                                {'label': 'CCAFS SLC-40', 'value': 'CCAFS SLC-40'},\n                                                {'label': 'KSC LC-39A', 'value':'KSC LC-39A'},\n                                                {'label': 'VAFB SLC-4E', 'value':'VAFB SLC-4E'}\n                                             ],\n                                             # Default dropdown value\n                                             value='ALL',\n                                             placeholder=\"Select a launch site\",\n                                             searchable=True),\n                                html.Br(),\n\n                                # TASK 2: Add a pie chart to show the total successful launches count for all sites\n                                # If a specific launch site was selected, show the Success vs. Failed counts for the site\n                                html.Div(dcc.Graph(id='success-pie-chart')),\n                                html.Br(),\n\n                                html.P(\"Payload range (Kg):\"),\n                                # TASK 3: Add a slider to select payload range\n                                dcc.RangeSlider(id='payload-slider',\n                                                min=0, max=10000, step=1000,\n                                                marks={0: '0',\n                                                       2500: '2500',\n                                                       5000: '5000',\n                                                       7500: '7500'},\n                                                value=[min_payload, max_payload]),\n\n                                # TASK 4: Add a scatter chart to show the correlation between payload and launch success\n                                html.Div(dcc.Graph(id='success-payload-scatter-chart')),\n                                ])\n\n# TASK 2:\n# Add a callback function for `site-dropdown` as input, `success-pie-chart` as output\n@app.callback(Output(component_id='success-pie-chart', component_property='figure'),\n              Input(component_id='site-dropdown', component_property='value'))\n\ndef render_pie_chart(entered_site):\n  # Filtered dataframe for else condition\n    filtered_df = spacex_df[spacex_df['Launch Site']==str(entered_site)]\n    if entered_site == 'ALL':\n        fig = px.pie(spacex_df, values='class', \n        names='Launch Site', \n        title='Launch in all sites')\n        return fig\n    else:\n        fig = px.pie(filtered_df, names='class', title=f'Launch in {entered_site}')\n        return fig\n\n# TASK 4:\n# Add a callback function for `site-dropdown` and `payload-slider` as inputs, `success-payload-scatter-chart` as output\n@app.callback(Output(component_id='success-payload-scatter-chart', component_property='figure'),\n              [Input(component_id='site-dropdown', component_property='value'), \n               Input(component_id='payload-slider', component_property='value')])\n\ndef render_scatter_plot(entered_site, slider_payload):\n    filtered_df = spacex_df[(spacex_df['Payload Mass (kg)'] >= slider_payload[0]) & (spacex_df['Payload Mass (kg)'] <= slider_payload[1])]\n    if entered_site == 'ALL':\n      fig = px.scatter(filtered_df, x='Payload Mass (kg)', y='class', color='Booster Version Category', title='All site payload and outcome')\n      return fig\n    else:\n      filtered_df = filtered_df[filtered_df['Launch Site']==entered_site]\n      fig = px.scatter(filtered_df, x='Payload Mass (kg)', y = 'class', color='Booster Version Category', title=f'Site {entered_site} Payload and outcome')\n      return fig\n\n# Run the app\napp.run_server(mode='inline', debug=True)"
        },
        {
            "cell_type": "code",
            "execution_count": null,
            "metadata": {
                "id": "FUIUNjUo6dOB"
            },
            "outputs": [],
            "source": ""
        }
    ],
    "metadata": {
        "colab": {
            "collapsed_sections": [],
            "name": "Untitled0.ipynb",
            "provenance": []
        },
        "kernelspec": {
            "display_name": "Python 3.8",
            "language": "python",
            "name": "python3"
        },
        "language_info": {
            "codemirror_mode": {
                "name": "ipython",
                "version": 3
            },
            "file_extension": ".py",
            "mimetype": "text/x-python",
            "name": "python",
            "nbconvert_exporter": "python",
            "pygments_lexer": "ipython3",
            "version": "3.8.12"
        }
    },
    "nbformat": 4,
    "nbformat_minor": 1
}